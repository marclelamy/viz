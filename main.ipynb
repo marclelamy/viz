{
 "cells": [
  {
   "cell_type": "code",
   "execution_count": 10,
   "metadata": {},
   "outputs": [
    {
     "data": {
      "text/html": [
       "<div>\n",
       "<style scoped>\n",
       "    .dataframe tbody tr th:only-of-type {\n",
       "        vertical-align: middle;\n",
       "    }\n",
       "\n",
       "    .dataframe tbody tr th {\n",
       "        vertical-align: top;\n",
       "    }\n",
       "\n",
       "    .dataframe thead th {\n",
       "        text-align: right;\n",
       "    }\n",
       "</style>\n",
       "<table border=\"1\" class=\"dataframe\">\n",
       "  <thead>\n",
       "    <tr style=\"text-align: right;\">\n",
       "      <th></th>\n",
       "      <th>name</th>\n",
       "      <th>age</th>\n",
       "      <th>gender</th>\n",
       "      <th>city</th>\n",
       "      <th>salary</th>\n",
       "      <th>fave_fruit</th>\n",
       "    </tr>\n",
       "  </thead>\n",
       "  <tbody>\n",
       "    <tr>\n",
       "      <th>0</th>\n",
       "      <td>Sarah</td>\n",
       "      <td>33</td>\n",
       "      <td>Female</td>\n",
       "      <td>San Francisco</td>\n",
       "      <td>50000</td>\n",
       "      <td>Apple</td>\n",
       "    </tr>\n",
       "    <tr>\n",
       "      <th>1</th>\n",
       "      <td>Michael</td>\n",
       "      <td>38</td>\n",
       "      <td>Male</td>\n",
       "      <td>Chicago</td>\n",
       "      <td>75000</td>\n",
       "      <td>Banana</td>\n",
       "    </tr>\n",
       "    <tr>\n",
       "      <th>2</th>\n",
       "      <td>John</td>\n",
       "      <td>43</td>\n",
       "      <td>Male</td>\n",
       "      <td>New York</td>\n",
       "      <td>100000</td>\n",
       "      <td>Orange</td>\n",
       "    </tr>\n",
       "    <tr>\n",
       "      <th>3</th>\n",
       "      <td>Jane</td>\n",
       "      <td>38</td>\n",
       "      <td>Female</td>\n",
       "      <td>San Francisco</td>\n",
       "      <td>80000</td>\n",
       "      <td>Strawberry</td>\n",
       "    </tr>\n",
       "    <tr>\n",
       "      <th>4</th>\n",
       "      <td>David</td>\n",
       "      <td>33</td>\n",
       "      <td>Male</td>\n",
       "      <td>New York</td>\n",
       "      <td>85000</td>\n",
       "      <td>Apple</td>\n",
       "    </tr>\n",
       "    <tr>\n",
       "      <th>...</th>\n",
       "      <td>...</td>\n",
       "      <td>...</td>\n",
       "      <td>...</td>\n",
       "      <td>...</td>\n",
       "      <td>...</td>\n",
       "      <td>...</td>\n",
       "    </tr>\n",
       "    <tr>\n",
       "      <th>63</th>\n",
       "      <td>Violet</td>\n",
       "      <td>29</td>\n",
       "      <td>Female</td>\n",
       "      <td>SanFrancisco</td>\n",
       "      <td>85000</td>\n",
       "      <td>Apple</td>\n",
       "    </tr>\n",
       "    <tr>\n",
       "      <th>64</th>\n",
       "      <td>Mason</td>\n",
       "      <td>32</td>\n",
       "      <td>Male</td>\n",
       "      <td>Chicago</td>\n",
       "      <td>70000</td>\n",
       "      <td>Banana</td>\n",
       "    </tr>\n",
       "    <tr>\n",
       "      <th>65</th>\n",
       "      <td>Lillian</td>\n",
       "      <td>35</td>\n",
       "      <td>Female</td>\n",
       "      <td>NewYork</td>\n",
       "      <td>55000</td>\n",
       "      <td>Peach</td>\n",
       "    </tr>\n",
       "    <tr>\n",
       "      <th>66</th>\n",
       "      <td>Oliver</td>\n",
       "      <td>31</td>\n",
       "      <td>Male</td>\n",
       "      <td>SanFrancisco</td>\n",
       "      <td>60000</td>\n",
       "      <td>Orange</td>\n",
       "    </tr>\n",
       "    <tr>\n",
       "      <th>67</th>\n",
       "      <td>Evelyn</td>\n",
       "      <td>36</td>\n",
       "      <td>Female</td>\n",
       "      <td>Chicago</td>\n",
       "      <td>75000</td>\n",
       "      <td>Banana</td>\n",
       "    </tr>\n",
       "  </tbody>\n",
       "</table>\n",
       "<p>68 rows × 6 columns</p>\n",
       "</div>"
      ],
      "text/plain": [
       "       name  age  gender           city  salary  fave_fruit\n",
       "0     Sarah   33  Female  San Francisco   50000       Apple\n",
       "1   Michael   38    Male        Chicago   75000      Banana\n",
       "2      John   43    Male       New York  100000      Orange\n",
       "3      Jane   38  Female  San Francisco   80000  Strawberry\n",
       "4     David   33    Male       New York   85000       Apple\n",
       "..      ...  ...     ...            ...     ...         ...\n",
       "63   Violet   29  Female   SanFrancisco   85000       Apple\n",
       "64    Mason   32    Male        Chicago   70000      Banana\n",
       "65  Lillian   35  Female        NewYork   55000       Peach\n",
       "66   Oliver   31    Male   SanFrancisco   60000      Orange\n",
       "67   Evelyn   36  Female        Chicago   75000      Banana\n",
       "\n",
       "[68 rows x 6 columns]"
      ]
     },
     "execution_count": 10,
     "metadata": {},
     "output_type": "execute_result"
    }
   ],
   "source": [
    "import pandas as pd\n",
    "\n",
    "\n",
    "df = pd.DataFrame({'name': {0: 'Sarah',1: 'Michael',2: 'John',3: 'Jane',4: 'David',5: 'Emily',6: 'Jacob',7: 'Sophie',8: 'Daniel',9: 'Ava',10: 'William',11: 'Olivia',12: 'James',13: 'Mia',14: 'Alexander',15: 'Ella',16: 'Joseph',17: 'Isabella',18: 'Christopher',19: 'Madison',20: 'Lucas',21: 'Lila',22: 'Benjamin',23: 'Lily',24: 'Ryan',25: 'Hannah',26: 'Luke',27: 'Victoria',28: 'Owen',29: 'Sophia',30: 'Henry',31: 'Chloe',32: 'Max',33: 'Amelia',34: 'Ethan',35: 'Natalie',36: 'Anthony',37: 'Grace',38: 'Leo',39: 'Emma',40: 'Gabriel',41: 'Mila',42: 'Noah',43: 'Avery',44: 'Caleb',45: 'Arianna',46: 'Elijah',47: 'Makayla',48: 'Aiden',49: 'Luna',50: 'Nathan',51: 'Bella',52: 'Isaac',53: 'Hailey',54: 'Dylan',55: 'Aria',56: 'Logan',57: 'Aurora',58: 'Jack',59: 'Piper',60: 'Jackson',61: 'Sofia',62: 'William',63: 'Violet',64: 'Mason',65: 'Lillian',66: 'Oliver',67: 'Evelyn'},\n",
    " 'age': {0: 33,1: 38,2: 43,3: 38,4: 33,5: 28,6: 35,7: 31,8: 35,9: 29,10: 33,11: 28,12: 37,13: 31,14: 36,15: 32,16: 35,17: 30,18: 36,19: 32,20: 31,21: 29,22: 33,23: 28,24: 35,25: 30,26: 36,27: 32,28: 35,29: 29,30: 33,31: 28,32: 31,33: 36,34: 32,35: 35,36: 30,37: 33,38: 29,39: 36,40: 31,41: 35,42: 28,43: 33,44: 29,45: 32,46: 35,47: 31,48: 36,49: 28,50: 33,51: 29,52: 32,53: 35,54: 31,55: 36,56: 29,57: 33,58: 35,59: 28,60: 31,61: 36,62: 33,63: 29,64: 32,65: 35,66: 31,67: 36},\n",
    " 'gender': {0: 'Female',1: 'Male',2: 'Male',3: 'Female',4: 'Male',5: 'Female',6: 'Male',7: 'Female',8: 'Male',9: 'Female',10: 'Male',11: 'Female',12: 'Male',13: 'Female',14: 'Male',15: 'Female',16: 'Male',17: 'Female',18: 'Male',19: 'Female',20: 'Male',21: 'Female',22: 'Male',23: 'Female',24: 'Male',25: 'Female',26: 'Male',27: 'Female',28: 'Male',29: 'Female',30: 'Male',31: 'Female',32: 'Male',33: 'Female',34: 'Male',35: 'Female',36: 'Male',37: 'Female',38: 'Male',39: 'Female',40: 'Male',41: 'Female',42: 'Male',43: 'Female',44: 'Male',45: 'Female',46: 'Male',47: 'Female',48: 'Male',49: 'Female',50: 'Male',51: 'Female',52: 'Male',53: 'Female',54: 'Male',55: 'Female',56: 'Male',57: 'Female',58: 'Male',59: 'Female',60: 'Male',61: 'Female',62: 'Male',63: 'Female',64: 'Male',65: 'Female',66: 'Male',67: 'Female'},\n",
    " 'city': {0: 'San Francisco',1: 'Chicago',2: 'New York',3: 'San Francisco',4: 'New York',5: 'Chicago',6: 'San Francisco',7: 'New York',8: 'San Francisco',9: 'Chicago',10: 'New York',11: 'San Francisco',12: 'Chicago',13: 'New York',14: 'San Francisco',15: 'New York',16: 'Chicago',17: 'San Francisco',18: 'New York',19: 'Chicago',20: 'NewYork',21: 'SanFrancisco',22: 'Chicago',23: 'NewYork',24: 'SanFrancisco',25: 'Chicago',26: 'NewYork',27: 'SanFrancisco',28: 'Chicago',29: 'NewYork',30: 'SanFrancisco',31: 'Chicago',32: 'NewYork',33: 'SanFrancisco',34: 'Chicago',35: 'NewYork',36: 'SanFrancisco',37: 'Chicago',38: 'NewYork',39: 'SanFrancisco',40: 'Chicago',41: 'NewYork',42: 'SanFrancisco',43: 'Chicago',44: 'NewYork',45: 'SanFrancisco',46: 'Chicago',47: 'NewYork',48: 'SanFrancisco',49: 'Chicago',50: 'NewYork',51: 'SanFrancisco',52: 'Chicago',53: 'NewYork',54: 'SanFrancisco',55: 'Chicago',56: 'NewYork',57: 'SanFrancisco',58: 'Chicago',59: 'NewYork',60: 'SanFrancisco',61: 'Chicago',62: 'NewYork',63: 'SanFrancisco',64: 'Chicago',65: 'NewYork',66: 'SanFrancisco',67: 'Chicago'},\n",
    " 'salary': {0: '50,000.00',1: '75,000',2: '100,000',3: '80,000',4: '85,000',5: '70,000',6: '60,000',7: '75,000',8: '50,000',9: '65,000',10: '70,000',11: '60,000',12: '75,000',13: '50,000',14: '80,000',15: '65,000',16: '55,000',17: '40,000',18: '60,000',19: '45,000',20: '90,000',21: '55,000',22: '80,000',23: '75,000',24: '85,000',25: '60,000',26: '50,000',27: '70,000',28: '75,000',29: '55,000',30: '80,000',31: '65,000',32: '60,000',33: '50,000',34: '70,000',35: '75,000',36: '85,000',37: '80,000',38: '60,000',39: '55,000',40: '50,000',41: '65,000',42: '75,000',43: '70,000',44: '80,000',45: '85,000',46: '60,000',47: '50,000',48: '65,000',49: '55,000',50: '75,000',51: '80,000',52: '70,000',53: '60,000',54: '50,000',55: '85,000',56: '75,000',57: '60,000',58: '55,000',59: '65,000',60: '80,000',61: '50,000',62: '75,000',63: '85,000',64: '70,000',65: '55,000',66: '60,000',67: '75'},\n",
    " 'fave_fruit': {0: 'Apple',1: 'Banana',2: 'Orange',3: 'Strawberry',4: 'Apple',5: 'Peach',6: 'Banana',7: 'Orange',8: 'Strawberry',9: 'Apple',10: 'Peach',11: 'Orange',12: 'Apple',13: 'Peach',14: 'Banana',15: 'Strawberry',16: 'Orange',17: 'Apple',18: 'Peach',19: 'Apple',20: 'Banana',21: 'Orange',22: 'Apple',23: 'Strawberry',24: 'Peach',25: 'Apple',26: 'Banana',27: 'Orange',28: 'Strawberry',29: 'Apple',30: 'Peach',31: 'Orange',32: 'Apple',33: 'Banana',34: 'Strawberry',35: 'Orange',36: 'Peach',37: 'Apple',38: 'Peach',39: 'Orange',40: 'Apple',41: 'Banana',42: 'Strawberry',43: 'Orange',44: 'Peach',45: 'Apple',46: 'Banana',47: 'Strawberry',48: 'Orange',49: 'Apple',50: 'Peach',51: 'Banana',52: 'Strawberry',53: 'Orange',54: 'Apple',55: 'Banana',56: 'Strawberry',57: 'Orange',58: 'Peach',59: 'Apple',60: 'Banana',61: 'Orange',62: 'Strawberry',63: 'Apple',64: 'Banana',65: 'Peach',66: 'Orange',67: 'Banana'}})\n",
    "\n",
    "\n",
    "df['salary'] = df['salary'].str.extract('(\\d+)').astype(int) * 1000\n",
    "df"
   ]
  },
  {
   "cell_type": "code",
   "execution_count": 39,
   "metadata": {},
   "outputs": [
    {
     "data": {
      "text/plain": [
       "Female    34\n",
       "Male      34\n",
       "Name: gender, dtype: int64"
      ]
     },
     "execution_count": 39,
     "metadata": {},
     "output_type": "execute_result"
    }
   ],
   "source": [
    "df.gender.value_counts()"
   ]
  },
  {
   "cell_type": "code",
   "execution_count": 38,
   "metadata": {},
   "outputs": [
    {
     "data": {
      "application/vnd.plotly.v1+json": {
       "config": {
        "plotlyServerURL": "https://plotly.com"
       },
       "data": [
        {
         "marker": {
          "color": "red",
          "opacity": 0.7,
          "size": [
           37.5,
           50,
           42.5,
           30,
           25,
           35,
           37.5,
           40,
           27.5,
           30,
           45,
           40,
           42.5,
           25,
           37.5,
           40,
           30,
           35,
           42.5,
           30,
           25,
           37.5,
           40,
           30,
           32.5,
           37.5,
           35,
           25,
           37.5,
           27.5,
           40,
           37.5,
           35,
           30
          ]
         },
         "mode": "markers",
         "name": "Males",
         "text": [
          "Michael<br>Favorite fruit: Banana",
          "John<br>Favorite fruit: Orange",
          "David<br>Favorite fruit: Apple",
          "Jacob<br>Favorite fruit: Banana",
          "Daniel<br>Favorite fruit: Strawberry",
          "William<br>Favorite fruit: Peach",
          "James<br>Favorite fruit: Apple",
          "Alexander<br>Favorite fruit: Banana",
          "Joseph<br>Favorite fruit: Orange",
          "Christopher<br>Favorite fruit: Peach",
          "Lucas<br>Favorite fruit: Banana",
          "Benjamin<br>Favorite fruit: Apple",
          "Ryan<br>Favorite fruit: Peach",
          "Luke<br>Favorite fruit: Banana",
          "Owen<br>Favorite fruit: Strawberry",
          "Henry<br>Favorite fruit: Peach",
          "Max<br>Favorite fruit: Apple",
          "Ethan<br>Favorite fruit: Strawberry",
          "Anthony<br>Favorite fruit: Peach",
          "Leo<br>Favorite fruit: Peach",
          "Gabriel<br>Favorite fruit: Apple",
          "Noah<br>Favorite fruit: Strawberry",
          "Caleb<br>Favorite fruit: Peach",
          "Elijah<br>Favorite fruit: Banana",
          "Aiden<br>Favorite fruit: Orange",
          "Nathan<br>Favorite fruit: Peach",
          "Isaac<br>Favorite fruit: Strawberry",
          "Dylan<br>Favorite fruit: Apple",
          "Logan<br>Favorite fruit: Strawberry",
          "Jack<br>Favorite fruit: Peach",
          "Jackson<br>Favorite fruit: Banana",
          "William<br>Favorite fruit: Strawberry",
          "Mason<br>Favorite fruit: Banana",
          "Oliver<br>Favorite fruit: Orange"
         ],
         "type": "scatter",
         "x": [
          75000,
          100000,
          85000,
          60000,
          50000,
          70000,
          75000,
          80000,
          55000,
          60000,
          90000,
          80000,
          85000,
          50000,
          75000,
          80000,
          60000,
          70000,
          85000,
          60000,
          50000,
          75000,
          80000,
          60000,
          65000,
          75000,
          70000,
          50000,
          75000,
          55000,
          80000,
          75000,
          70000,
          60000
         ],
         "y": [
          38,
          43,
          33,
          35,
          35,
          33,
          37,
          36,
          35,
          36,
          31,
          33,
          35,
          36,
          35,
          33,
          31,
          32,
          30,
          29,
          31,
          28,
          29,
          35,
          36,
          33,
          32,
          31,
          29,
          35,
          31,
          33,
          32,
          31
         ]
        },
        {
         "marker": {
          "color": "blue",
          "opacity": 0.7,
          "size": [
           25,
           40,
           35,
           37.5,
           32.5,
           30,
           25,
           32.5,
           20,
           22.5,
           27.5,
           37.5,
           30,
           35,
           27.5,
           32.5,
           25,
           37.5,
           40,
           27.5,
           32.5,
           35,
           42.5,
           25,
           27.5,
           40,
           30,
           42.5,
           30,
           32.5,
           25,
           42.5,
           27.5,
           37.5
          ]
         },
         "mode": "markers",
         "name": "Females",
         "text": [
          "Sarah<br>Favorite fruit: Apple",
          "Jane<br>Favorite fruit: Strawberry",
          "Emily<br>Favorite fruit: Peach",
          "Sophie<br>Favorite fruit: Orange",
          "Ava<br>Favorite fruit: Apple",
          "Olivia<br>Favorite fruit: Orange",
          "Mia<br>Favorite fruit: Peach",
          "Ella<br>Favorite fruit: Strawberry",
          "Isabella<br>Favorite fruit: Apple",
          "Madison<br>Favorite fruit: Apple",
          "Lila<br>Favorite fruit: Orange",
          "Lily<br>Favorite fruit: Strawberry",
          "Hannah<br>Favorite fruit: Apple",
          "Victoria<br>Favorite fruit: Orange",
          "Sophia<br>Favorite fruit: Apple",
          "Chloe<br>Favorite fruit: Orange",
          "Amelia<br>Favorite fruit: Banana",
          "Natalie<br>Favorite fruit: Orange",
          "Grace<br>Favorite fruit: Apple",
          "Emma<br>Favorite fruit: Orange",
          "Mila<br>Favorite fruit: Banana",
          "Avery<br>Favorite fruit: Orange",
          "Arianna<br>Favorite fruit: Apple",
          "Makayla<br>Favorite fruit: Strawberry",
          "Luna<br>Favorite fruit: Apple",
          "Bella<br>Favorite fruit: Banana",
          "Hailey<br>Favorite fruit: Orange",
          "Aria<br>Favorite fruit: Banana",
          "Aurora<br>Favorite fruit: Orange",
          "Piper<br>Favorite fruit: Apple",
          "Sofia<br>Favorite fruit: Orange",
          "Violet<br>Favorite fruit: Apple",
          "Lillian<br>Favorite fruit: Peach",
          "Evelyn<br>Favorite fruit: Banana"
         ],
         "type": "scatter",
         "x": [
          50000,
          80000,
          70000,
          75000,
          65000,
          60000,
          50000,
          65000,
          40000,
          45000,
          55000,
          75000,
          60000,
          70000,
          55000,
          65000,
          50000,
          75000,
          80000,
          55000,
          65000,
          70000,
          85000,
          50000,
          55000,
          80000,
          60000,
          85000,
          60000,
          65000,
          50000,
          85000,
          55000,
          75000
         ],
         "y": [
          33,
          38,
          28,
          31,
          29,
          28,
          31,
          32,
          30,
          32,
          29,
          28,
          30,
          32,
          29,
          28,
          36,
          35,
          33,
          36,
          35,
          33,
          32,
          31,
          28,
          29,
          35,
          36,
          33,
          28,
          36,
          29,
          35,
          36
         ]
        }
       ],
       "layout": {
        "font": {
         "color": "white",
         "family": "Arial",
         "size": 18
        },
        "height": 1000,
        "hoverlabel": {
         "bgcolor": "white",
         "font": {
          "family": "Arial",
          "size": 16
         }
        },
        "legend": {
         "title": {
          "text": "Gender"
         }
        },
        "paper_bgcolor": "black",
        "plot_bgcolor": "black",
        "shapes": [
         {
          "line": {
           "color": "white",
           "dash": "dash",
           "width": 2
          },
          "type": "line",
          "x0": 67500,
          "x1": 67500,
          "y0": 0,
          "y1": 43
         },
         {
          "line": {
           "color": "white",
           "dash": "dash",
           "width": 2
          },
          "type": "line",
          "x0": 0,
          "x1": 100000,
          "y0": 32.5,
          "y1": 32.5
         }
        ],
        "template": {
         "data": {
          "bar": [
           {
            "error_x": {
             "color": "#f2f5fa"
            },
            "error_y": {
             "color": "#f2f5fa"
            },
            "marker": {
             "line": {
              "color": "rgb(17,17,17)",
              "width": 0.5
             },
             "pattern": {
              "fillmode": "overlay",
              "size": 10,
              "solidity": 0.2
             }
            },
            "type": "bar"
           }
          ],
          "barpolar": [
           {
            "marker": {
             "line": {
              "color": "rgb(17,17,17)",
              "width": 0.5
             },
             "pattern": {
              "fillmode": "overlay",
              "size": 10,
              "solidity": 0.2
             }
            },
            "type": "barpolar"
           }
          ],
          "carpet": [
           {
            "aaxis": {
             "endlinecolor": "#A2B1C6",
             "gridcolor": "#506784",
             "linecolor": "#506784",
             "minorgridcolor": "#506784",
             "startlinecolor": "#A2B1C6"
            },
            "baxis": {
             "endlinecolor": "#A2B1C6",
             "gridcolor": "#506784",
             "linecolor": "#506784",
             "minorgridcolor": "#506784",
             "startlinecolor": "#A2B1C6"
            },
            "type": "carpet"
           }
          ],
          "choropleth": [
           {
            "colorbar": {
             "outlinewidth": 0,
             "ticks": ""
            },
            "type": "choropleth"
           }
          ],
          "contour": [
           {
            "colorbar": {
             "outlinewidth": 0,
             "ticks": ""
            },
            "colorscale": [
             [
              0,
              "#0d0887"
             ],
             [
              0.1111111111111111,
              "#46039f"
             ],
             [
              0.2222222222222222,
              "#7201a8"
             ],
             [
              0.3333333333333333,
              "#9c179e"
             ],
             [
              0.4444444444444444,
              "#bd3786"
             ],
             [
              0.5555555555555556,
              "#d8576b"
             ],
             [
              0.6666666666666666,
              "#ed7953"
             ],
             [
              0.7777777777777778,
              "#fb9f3a"
             ],
             [
              0.8888888888888888,
              "#fdca26"
             ],
             [
              1,
              "#f0f921"
             ]
            ],
            "type": "contour"
           }
          ],
          "contourcarpet": [
           {
            "colorbar": {
             "outlinewidth": 0,
             "ticks": ""
            },
            "type": "contourcarpet"
           }
          ],
          "heatmap": [
           {
            "colorbar": {
             "outlinewidth": 0,
             "ticks": ""
            },
            "colorscale": [
             [
              0,
              "#0d0887"
             ],
             [
              0.1111111111111111,
              "#46039f"
             ],
             [
              0.2222222222222222,
              "#7201a8"
             ],
             [
              0.3333333333333333,
              "#9c179e"
             ],
             [
              0.4444444444444444,
              "#bd3786"
             ],
             [
              0.5555555555555556,
              "#d8576b"
             ],
             [
              0.6666666666666666,
              "#ed7953"
             ],
             [
              0.7777777777777778,
              "#fb9f3a"
             ],
             [
              0.8888888888888888,
              "#fdca26"
             ],
             [
              1,
              "#f0f921"
             ]
            ],
            "type": "heatmap"
           }
          ],
          "heatmapgl": [
           {
            "colorbar": {
             "outlinewidth": 0,
             "ticks": ""
            },
            "colorscale": [
             [
              0,
              "#0d0887"
             ],
             [
              0.1111111111111111,
              "#46039f"
             ],
             [
              0.2222222222222222,
              "#7201a8"
             ],
             [
              0.3333333333333333,
              "#9c179e"
             ],
             [
              0.4444444444444444,
              "#bd3786"
             ],
             [
              0.5555555555555556,
              "#d8576b"
             ],
             [
              0.6666666666666666,
              "#ed7953"
             ],
             [
              0.7777777777777778,
              "#fb9f3a"
             ],
             [
              0.8888888888888888,
              "#fdca26"
             ],
             [
              1,
              "#f0f921"
             ]
            ],
            "type": "heatmapgl"
           }
          ],
          "histogram": [
           {
            "marker": {
             "pattern": {
              "fillmode": "overlay",
              "size": 10,
              "solidity": 0.2
             }
            },
            "type": "histogram"
           }
          ],
          "histogram2d": [
           {
            "colorbar": {
             "outlinewidth": 0,
             "ticks": ""
            },
            "colorscale": [
             [
              0,
              "#0d0887"
             ],
             [
              0.1111111111111111,
              "#46039f"
             ],
             [
              0.2222222222222222,
              "#7201a8"
             ],
             [
              0.3333333333333333,
              "#9c179e"
             ],
             [
              0.4444444444444444,
              "#bd3786"
             ],
             [
              0.5555555555555556,
              "#d8576b"
             ],
             [
              0.6666666666666666,
              "#ed7953"
             ],
             [
              0.7777777777777778,
              "#fb9f3a"
             ],
             [
              0.8888888888888888,
              "#fdca26"
             ],
             [
              1,
              "#f0f921"
             ]
            ],
            "type": "histogram2d"
           }
          ],
          "histogram2dcontour": [
           {
            "colorbar": {
             "outlinewidth": 0,
             "ticks": ""
            },
            "colorscale": [
             [
              0,
              "#0d0887"
             ],
             [
              0.1111111111111111,
              "#46039f"
             ],
             [
              0.2222222222222222,
              "#7201a8"
             ],
             [
              0.3333333333333333,
              "#9c179e"
             ],
             [
              0.4444444444444444,
              "#bd3786"
             ],
             [
              0.5555555555555556,
              "#d8576b"
             ],
             [
              0.6666666666666666,
              "#ed7953"
             ],
             [
              0.7777777777777778,
              "#fb9f3a"
             ],
             [
              0.8888888888888888,
              "#fdca26"
             ],
             [
              1,
              "#f0f921"
             ]
            ],
            "type": "histogram2dcontour"
           }
          ],
          "mesh3d": [
           {
            "colorbar": {
             "outlinewidth": 0,
             "ticks": ""
            },
            "type": "mesh3d"
           }
          ],
          "parcoords": [
           {
            "line": {
             "colorbar": {
              "outlinewidth": 0,
              "ticks": ""
             }
            },
            "type": "parcoords"
           }
          ],
          "pie": [
           {
            "automargin": true,
            "type": "pie"
           }
          ],
          "scatter": [
           {
            "marker": {
             "line": {
              "color": "#283442"
             }
            },
            "type": "scatter"
           }
          ],
          "scatter3d": [
           {
            "line": {
             "colorbar": {
              "outlinewidth": 0,
              "ticks": ""
             }
            },
            "marker": {
             "colorbar": {
              "outlinewidth": 0,
              "ticks": ""
             }
            },
            "type": "scatter3d"
           }
          ],
          "scattercarpet": [
           {
            "marker": {
             "colorbar": {
              "outlinewidth": 0,
              "ticks": ""
             }
            },
            "type": "scattercarpet"
           }
          ],
          "scattergeo": [
           {
            "marker": {
             "colorbar": {
              "outlinewidth": 0,
              "ticks": ""
             }
            },
            "type": "scattergeo"
           }
          ],
          "scattergl": [
           {
            "marker": {
             "line": {
              "color": "#283442"
             }
            },
            "type": "scattergl"
           }
          ],
          "scattermapbox": [
           {
            "marker": {
             "colorbar": {
              "outlinewidth": 0,
              "ticks": ""
             }
            },
            "type": "scattermapbox"
           }
          ],
          "scatterpolar": [
           {
            "marker": {
             "colorbar": {
              "outlinewidth": 0,
              "ticks": ""
             }
            },
            "type": "scatterpolar"
           }
          ],
          "scatterpolargl": [
           {
            "marker": {
             "colorbar": {
              "outlinewidth": 0,
              "ticks": ""
             }
            },
            "type": "scatterpolargl"
           }
          ],
          "scatterternary": [
           {
            "marker": {
             "colorbar": {
              "outlinewidth": 0,
              "ticks": ""
             }
            },
            "type": "scatterternary"
           }
          ],
          "surface": [
           {
            "colorbar": {
             "outlinewidth": 0,
             "ticks": ""
            },
            "colorscale": [
             [
              0,
              "#0d0887"
             ],
             [
              0.1111111111111111,
              "#46039f"
             ],
             [
              0.2222222222222222,
              "#7201a8"
             ],
             [
              0.3333333333333333,
              "#9c179e"
             ],
             [
              0.4444444444444444,
              "#bd3786"
             ],
             [
              0.5555555555555556,
              "#d8576b"
             ],
             [
              0.6666666666666666,
              "#ed7953"
             ],
             [
              0.7777777777777778,
              "#fb9f3a"
             ],
             [
              0.8888888888888888,
              "#fdca26"
             ],
             [
              1,
              "#f0f921"
             ]
            ],
            "type": "surface"
           }
          ],
          "table": [
           {
            "cells": {
             "fill": {
              "color": "#506784"
             },
             "line": {
              "color": "rgb(17,17,17)"
             }
            },
            "header": {
             "fill": {
              "color": "#2a3f5f"
             },
             "line": {
              "color": "rgb(17,17,17)"
             }
            },
            "type": "table"
           }
          ]
         },
         "layout": {
          "annotationdefaults": {
           "arrowcolor": "#f2f5fa",
           "arrowhead": 0,
           "arrowwidth": 1
          },
          "autotypenumbers": "strict",
          "coloraxis": {
           "colorbar": {
            "outlinewidth": 0,
            "ticks": ""
           }
          },
          "colorscale": {
           "diverging": [
            [
             0,
             "#8e0152"
            ],
            [
             0.1,
             "#c51b7d"
            ],
            [
             0.2,
             "#de77ae"
            ],
            [
             0.3,
             "#f1b6da"
            ],
            [
             0.4,
             "#fde0ef"
            ],
            [
             0.5,
             "#f7f7f7"
            ],
            [
             0.6,
             "#e6f5d0"
            ],
            [
             0.7,
             "#b8e186"
            ],
            [
             0.8,
             "#7fbc41"
            ],
            [
             0.9,
             "#4d9221"
            ],
            [
             1,
             "#276419"
            ]
           ],
           "sequential": [
            [
             0,
             "#0d0887"
            ],
            [
             0.1111111111111111,
             "#46039f"
            ],
            [
             0.2222222222222222,
             "#7201a8"
            ],
            [
             0.3333333333333333,
             "#9c179e"
            ],
            [
             0.4444444444444444,
             "#bd3786"
            ],
            [
             0.5555555555555556,
             "#d8576b"
            ],
            [
             0.6666666666666666,
             "#ed7953"
            ],
            [
             0.7777777777777778,
             "#fb9f3a"
            ],
            [
             0.8888888888888888,
             "#fdca26"
            ],
            [
             1,
             "#f0f921"
            ]
           ],
           "sequentialminus": [
            [
             0,
             "#0d0887"
            ],
            [
             0.1111111111111111,
             "#46039f"
            ],
            [
             0.2222222222222222,
             "#7201a8"
            ],
            [
             0.3333333333333333,
             "#9c179e"
            ],
            [
             0.4444444444444444,
             "#bd3786"
            ],
            [
             0.5555555555555556,
             "#d8576b"
            ],
            [
             0.6666666666666666,
             "#ed7953"
            ],
            [
             0.7777777777777778,
             "#fb9f3a"
            ],
            [
             0.8888888888888888,
             "#fdca26"
            ],
            [
             1,
             "#f0f921"
            ]
           ]
          },
          "colorway": [
           "#636efa",
           "#EF553B",
           "#00cc96",
           "#ab63fa",
           "#FFA15A",
           "#19d3f3",
           "#FF6692",
           "#B6E880",
           "#FF97FF",
           "#FECB52"
          ],
          "font": {
           "color": "#f2f5fa"
          },
          "geo": {
           "bgcolor": "rgb(17,17,17)",
           "lakecolor": "rgb(17,17,17)",
           "landcolor": "rgb(17,17,17)",
           "showlakes": true,
           "showland": true,
           "subunitcolor": "#506784"
          },
          "hoverlabel": {
           "align": "left"
          },
          "hovermode": "closest",
          "mapbox": {
           "style": "dark"
          },
          "paper_bgcolor": "rgb(17,17,17)",
          "plot_bgcolor": "rgb(17,17,17)",
          "polar": {
           "angularaxis": {
            "gridcolor": "#506784",
            "linecolor": "#506784",
            "ticks": ""
           },
           "bgcolor": "rgb(17,17,17)",
           "radialaxis": {
            "gridcolor": "#506784",
            "linecolor": "#506784",
            "ticks": ""
           }
          },
          "scene": {
           "xaxis": {
            "backgroundcolor": "rgb(17,17,17)",
            "gridcolor": "#506784",
            "gridwidth": 2,
            "linecolor": "#506784",
            "showbackground": true,
            "ticks": "",
            "zerolinecolor": "#C8D4E3"
           },
           "yaxis": {
            "backgroundcolor": "rgb(17,17,17)",
            "gridcolor": "#506784",
            "gridwidth": 2,
            "linecolor": "#506784",
            "showbackground": true,
            "ticks": "",
            "zerolinecolor": "#C8D4E3"
           },
           "zaxis": {
            "backgroundcolor": "rgb(17,17,17)",
            "gridcolor": "#506784",
            "gridwidth": 2,
            "linecolor": "#506784",
            "showbackground": true,
            "ticks": "",
            "zerolinecolor": "#C8D4E3"
           }
          },
          "shapedefaults": {
           "line": {
            "color": "#f2f5fa"
           }
          },
          "sliderdefaults": {
           "bgcolor": "#C8D4E3",
           "bordercolor": "rgb(17,17,17)",
           "borderwidth": 1,
           "tickwidth": 0
          },
          "ternary": {
           "aaxis": {
            "gridcolor": "#506784",
            "linecolor": "#506784",
            "ticks": ""
           },
           "baxis": {
            "gridcolor": "#506784",
            "linecolor": "#506784",
            "ticks": ""
           },
           "bgcolor": "rgb(17,17,17)",
           "caxis": {
            "gridcolor": "#506784",
            "linecolor": "#506784",
            "ticks": ""
           }
          },
          "title": {
           "x": 0.05
          },
          "updatemenudefaults": {
           "bgcolor": "#506784",
           "borderwidth": 0
          },
          "xaxis": {
           "automargin": true,
           "gridcolor": "#283442",
           "linecolor": "#506784",
           "ticks": "",
           "title": {
            "standoff": 15
           },
           "zerolinecolor": "#283442",
           "zerolinewidth": 2
          },
          "yaxis": {
           "automargin": true,
           "gridcolor": "#283442",
           "linecolor": "#506784",
           "ticks": "",
           "title": {
            "standoff": 15
           },
           "zerolinecolor": "#283442",
           "zerolinewidth": 2
          }
         }
        },
        "title": {
         "text": "Salary and Age by Gender"
        },
        "width": 2000,
        "xaxis": {
         "title": {
          "text": "Salary"
         }
        },
        "yaxis": {
         "title": {
          "text": "Age"
         }
        }
       }
      }
     },
     "metadata": {},
     "output_type": "display_data"
    }
   ],
   "source": [
    "import plotly.graph_objs as go\n",
    "import numpy as np\n",
    "\n",
    "# calculate median salary and age\n",
    "median_salary = np.median(df['salary'])\n",
    "median_age = np.median(df['age'])\n",
    "\n",
    "# create a trace for each gender\n",
    "males = go.Scatter(x=df[df['gender'] == 'Male']['salary'], y=df[df['gender'] == 'Male']['age'], \n",
    "                   mode='markers', name='Males',\n",
    "                   marker=dict(size=df[df['gender'] == 'Male']['salary']/2000,\n",
    "                               color='red',\n",
    "                               opacity=0.7),\n",
    "                   text=df[df['gender'] == 'Male']['name'] + '<br>Favorite fruit: ' + df[df['gender'] == 'Male']['fave_fruit'])\n",
    "\n",
    "females = go.Scatter(x=df[df['gender'] == 'Female']['salary'], y=df[df['gender'] == 'Female']['age'], \n",
    "                   mode='markers', name='Females',\n",
    "                   marker=dict(size=df[df['gender'] == 'Female']['salary']/2000,\n",
    "                               color='blue',\n",
    "                               opacity=0.7),\n",
    "                   text=df[df['gender'] == 'Female']['name'] + '<br>Favorite fruit: ' + df[df['gender'] == 'Female']['fave_fruit'])\n",
    "\n",
    "# create the layout\n",
    "layout = go.Layout(height = 1000, \n",
    "                   width = 2000, \n",
    "                   title='Salary and Age by Gender',\n",
    "                   xaxis=dict(title='Salary'),\n",
    "                   yaxis=dict(title='Age'),\n",
    "                   legend=dict(title='Gender'),\n",
    "                   font=dict(family='Arial', size=18, color='white'),\n",
    "                   paper_bgcolor='black',\n",
    "                   plot_bgcolor='black',\n",
    "                   hoverlabel=dict(font_size=16, font_family='Arial', bgcolor='white'),\n",
    "                   template='plotly_dark',\n",
    "                   shapes=[\n",
    "                       dict(type='line', x0=median_salary, y0=0, x1=median_salary, y1=df['age'].max(), \n",
    "                            line=dict(color='white', width=2, dash='dash')),\n",
    "                       dict(type='line', x0=0, y0=median_age, x1=df['salary'].max(), y1=median_age, \n",
    "                            line=dict(color='white', width=2, dash='dash'))\n",
    "                   ])\n",
    "\n",
    "\n",
    "# create the figure\n",
    "fig = go.Figure(data=[males, females], layout=layout)\n",
    "\n",
    "# show the figure\n",
    "fig.show()"
   ]
  },
  {
   "attachments": {},
   "cell_type": "markdown",
   "metadata": {},
   "source": []
  },
  {
   "cell_type": "code",
   "execution_count": 14,
   "metadata": {},
   "outputs": [
    {
     "name": "stdout",
     "output_type": "stream",
     "text": [
      "\n",
      "\n",
      "\"\n",
      "    Invalid value of type 'builtins.str' received for the 'color' property of scatter.marker.line\n",
      "        Received value: 'darkpink'\n",
      "\n",
      "    The 'color' property is a color and may be specified as:\n",
      "      - A hex string (e.g. '#ff0000')\n",
      "      - An rgb/rgba string (e.g. 'rgb(255,0,0)')\n",
      "      - An hsl/hsla string (e.g. 'hsl(0,100%,50%)')\n",
      "      - An hsv/hsva string (e.g. 'hsv(0,100%,100%)')\n",
      "      - A named CSS color:\n",
      "            aliceblue, antiquewhite, aqua, aquamarine, azure,\n",
      "            beige, bisque, black, blanchedalmond, blue,\n",
      "            blueviolet, brown, burlywood, cadetblue,\n",
      "            chartreuse, chocolate, coral, cornflowerblue,\n",
      "            cornsilk, crimson, cyan, darkblue, darkcyan,\n",
      "            darkgoldenrod, darkgray, darkgrey, darkgreen,\n",
      "            darkkhaki, darkmagenta, darkolivegreen, darkorange,\n",
      "            darkorchid, darkred, darksalmon, darkseagreen,\n",
      "            darkslateblue, darkslategray, darkslategrey,\n",
      "            darkturquoise, darkviolet, deeppink, deepskyblue,\n",
      "            dimgray, dimgrey, dodgerblue, firebrick,\n",
      "            floralwhite, forestgreen, fuchsia, gainsboro,\n",
      "            ghostwhite, gold, goldenrod, gray, grey, green,\n",
      "            greenyellow, honeydew, hotpink, indianred, indigo,\n",
      "            ivory, khaki, lavender, lavenderblush, lawngreen,\n",
      "            lemonchiffon, lightblue, lightcoral, lightcyan,\n",
      "            lightgoldenrodyellow, lightgray, lightgrey,\n",
      "            lightgreen, lightpink, lightsalmon, lightseagreen,\n",
      "            lightskyblue, lightslategray, lightslategrey,\n",
      "            lightsteelblue, lightyellow, lime, limegreen,\n",
      "            linen, magenta, maroon, mediumaquamarine,\n",
      "            mediumblue, mediumorchid, mediumpurple,\n",
      "            mediumseagreen, mediumslateblue, mediumspringgreen,\n",
      "            mediumturquoise, mediumvioletred, midnightblue,\n",
      "            mintcream, mistyrose, moccasin, navajowhite, navy,\n",
      "            oldlace, olive, olivedrab, orange, orangered,\n",
      "            orchid, palegoldenrod, palegreen, paleturquoise,\n",
      "            palevioletred, papayawhip, peachpuff, peru, pink,\n",
      "            plum, powderblue, purple, red, rosybrown,\n",
      "            royalblue, rebeccapurple, saddlebrown, salmon,\n",
      "            sandybrown, seagreen, seashell, sienna, silver,\n",
      "            skyblue, slateblue, slategray, slategrey, snow,\n",
      "            springgreen, steelblue, tan, teal, thistle, tomato,\n",
      "            turquoise, violet, wheat, white, whitesmoke,\n",
      "            yellow, yellowgreen\n",
      "      - A number that will be interpreted as a color\n",
      "        according to scatter.marker.line.colorscale\n",
      "      - A list or array of any of the above\",\n",
      "\t\"stack\": \"\u001b[0;31m---------------------------------------------------------------------------\u001b[0m\n",
      "\u001b[0;31mValueError\u001b[0m                                Traceback (most recent call last)\n",
      "\u001b[0;32m/var/folders/52/s1w1p2q558xfjlyyyjlbfphr0000gn/T/ipykernel_2171/1870627463.py\u001b[0m in \u001b[0;36m<cell line: 12>\u001b[0;34m()\u001b[0m\n",
      "\u001b[1;32m     10\u001b[0m                    text=df[df['gender'] == 'Male']['name'] + '<br>Favorite fruit: ' + df[df['gender'] == 'Male']['fave_fruit'])\n",
      "\u001b[1;32m     11\u001b[0m \u001b[0;34m\u001b[0m\u001b[0m\n",
      "\u001b[0;32m---> 12\u001b[0;31m females = go.Scatter(x=df[df['gender'] == 'Female']['salary'], y=df[df['gender'] == 'Female']['age'], \n",
      "\u001b[0m\u001b[1;32m     13\u001b[0m                    \u001b[0mmode\u001b[0m\u001b[0;34m=\u001b[0m\u001b[0;34m'markers'\u001b[0m\u001b[0;34m,\u001b[0m \u001b[0mname\u001b[0m\u001b[0;34m=\u001b[0m\u001b[0;34m'Females'\u001b[0m\u001b[0;34m,\u001b[0m\u001b[0;34m\u001b[0m\u001b[0;34m\u001b[0m\u001b[0m\n",
      "\u001b[1;32m     14\u001b[0m                    marker=dict(size=df[df['gender'] == 'Female']['salary']/1000,\n",
      "\n",
      "\u001b[0;32m/opt/homebrew/Caskroom/miniforge/base/envs/main_env/lib/python3.8/site-packages/plotly/graph_objs/_scatter.py\u001b[0m in \u001b[0;36m__init__\u001b[0;34m(self, arg, cliponaxis, connectgaps, customdata, customdatasrc, dx, dy, error_x, error_y, fill, fillcolor, fillpattern, groupnorm, hoverinfo, hoverinfosrc, hoverlabel, hoveron, hovertemplate, hovertemplatesrc, hovertext, hovertextsrc, ids, idssrc, legendgroup, legendgrouptitle, legendrank, line, marker, meta, metasrc, mode, name, opacity, orientation, selected, selectedpoints, showlegend, stackgaps, stackgroup, stream, text, textfont, textposition, textpositionsrc, textsrc, texttemplate, texttemplatesrc, uid, uirevision, unselected, visible, x, x0, xaxis, xcalendar, xhoverformat, xperiod, xperiod0, xperiodalignment, xsrc, y, y0, yaxis, ycalendar, yhoverformat, yperiod, yperiod0, yperiodalignment, ysrc, **kwargs)\u001b[0m\n",
      "\u001b[1;32m   3194\u001b[0m         \u001b[0m_v\u001b[0m \u001b[0;34m=\u001b[0m \u001b[0mmarker\u001b[0m \u001b[0;32mif\u001b[0m \u001b[0mmarker\u001b[0m \u001b[0;32mis\u001b[0m \u001b[0;32mnot\u001b[0m \u001b[0;32mNone\u001b[0m \u001b[0;32melse\u001b[0m \u001b[0m_v\u001b[0m\u001b[0;34m\u001b[0m\u001b[0;34m\u001b[0m\u001b[0m\n",
      "\u001b[1;32m   3195\u001b[0m         \u001b[0;32mif\u001b[0m \u001b[0m_v\u001b[0m \u001b[0;32mis\u001b[0m \u001b[0;32mnot\u001b[0m \u001b[0;32mNone\u001b[0m\u001b[0;34m:\u001b[0m\u001b[0;34m\u001b[0m\u001b[0;34m\u001b[0m\u001b[0m\n",
      "\u001b[0;32m-> 3196\u001b[0;31m             \u001b[0mself\u001b[0m\u001b[0;34m[\u001b[0m\u001b[0;34m\"marker\"\u001b[0m\u001b[0;34m]\u001b[0m \u001b[0;34m=\u001b[0m \u001b[0m_v\u001b[0m\u001b[0;34m\u001b[0m\u001b[0;34m\u001b[0m\u001b[0m\n",
      "\u001b[0m\u001b[1;32m   3197\u001b[0m         \u001b[0m_v\u001b[0m \u001b[0;34m=\u001b[0m \u001b[0marg\u001b[0m\u001b[0;34m.\u001b[0m\u001b[0mpop\u001b[0m\u001b[0;34m(\u001b[0m\u001b[0;34m\"meta\"\u001b[0m\u001b[0;34m,\u001b[0m \u001b[0;32mNone\u001b[0m\u001b[0;34m)\u001b[0m\u001b[0;34m\u001b[0m\u001b[0;34m\u001b[0m\u001b[0m\n",
      "\u001b[1;32m   3198\u001b[0m         \u001b[0m_v\u001b[0m \u001b[0;34m=\u001b[0m \u001b[0mmeta\u001b[0m \u001b[0;32mif\u001b[0m \u001b[0mmeta\u001b[0m \u001b[0;32mis\u001b[0m \u001b[0;32mnot\u001b[0m \u001b[0;32mNone\u001b[0m \u001b[0;32melse\u001b[0m \u001b[0m_v\u001b[0m\u001b[0;34m\u001b[0m\u001b[0;34m\u001b[0m\u001b[0m\n",
      "\n",
      "\u001b[0;32m/opt/homebrew/Caskroom/miniforge/base/envs/main_env/lib/python3.8/site-packages/plotly/basedatatypes.py\u001b[0m in \u001b[0;36m__setitem__\u001b[0;34m(self, prop, value)\u001b[0m\n",
      "\u001b[1;32m   4849\u001b[0m                 \u001b[0;31m# ### Handle compound property ###\u001b[0m\u001b[0;34m\u001b[0m\u001b[0;34m\u001b[0m\u001b[0;34m\u001b[0m\u001b[0m\n",
      "\u001b[1;32m   4850\u001b[0m                 \u001b[0;32mif\u001b[0m \u001b[0misinstance\u001b[0m\u001b[0;34m(\u001b[0m\u001b[0mvalidator\u001b[0m\u001b[0;34m,\u001b[0m \u001b[0mCompoundValidator\u001b[0m\u001b[0;34m)\u001b[0m\u001b[0;34m:\u001b[0m\u001b[0;34m\u001b[0m\u001b[0;34m\u001b[0m\u001b[0m\n",
      "\u001b[0;32m-> 4851\u001b[0;31m                     \u001b[0mself\u001b[0m\u001b[0;34m.\u001b[0m\u001b[0m_set_compound_prop\u001b[0m\u001b[0;34m(\u001b[0m\u001b[0mprop\u001b[0m\u001b[0;34m,\u001b[0m \u001b[0mvalue\u001b[0m\u001b[0;34m)\u001b[0m\u001b[0;34m\u001b[0m\u001b[0;34m\u001b[0m\u001b[0m\n",
      "\u001b[0m\u001b[1;32m   4852\u001b[0m \u001b[0;34m\u001b[0m\u001b[0m\n",
      "\u001b[1;32m   4853\u001b[0m                 \u001b[0;31m# ### Handle compound array property ###\u001b[0m\u001b[0;34m\u001b[0m\u001b[0;34m\u001b[0m\u001b[0;34m\u001b[0m\u001b[0m\n",
      "\n",
      "\u001b[0;32m/opt/homebrew/Caskroom/miniforge/base/envs/main_env/lib/python3.8/site-packages/plotly/basedatatypes.py\u001b[0m in \u001b[0;36m_set_compound_prop\u001b[0;34m(self, prop, val)\u001b[0m\n",
      "\u001b[1;32m   5260\u001b[0m         \u001b[0;31m# ------------\u001b[0m\u001b[0;34m\u001b[0m\u001b[0;34m\u001b[0m\u001b[0;34m\u001b[0m\u001b[0m\n",
      "\u001b[1;32m   5261\u001b[0m         \u001b[0mvalidator\u001b[0m \u001b[0;34m=\u001b[0m \u001b[0mself\u001b[0m\u001b[0;34m.\u001b[0m\u001b[0m_get_validator\u001b[0m\u001b[0;34m(\u001b[0m\u001b[0mprop\u001b[0m\u001b[0;34m)\u001b[0m\u001b[0;34m\u001b[0m\u001b[0;34m\u001b[0m\u001b[0m\n",
      "\u001b[0;32m-> 5262\u001b[0;31m         \u001b[0mval\u001b[0m \u001b[0;34m=\u001b[0m \u001b[0mvalidator\u001b[0m\u001b[0;34m.\u001b[0m\u001b[0mvalidate_coerce\u001b[0m\u001b[0;34m(\u001b[0m\u001b[0mval\u001b[0m\u001b[0;34m,\u001b[0m \u001b[0mskip_invalid\u001b[0m\u001b[0;34m=\u001b[0m\u001b[0mself\u001b[0m\u001b[0;34m.\u001b[0m\u001b[0m_skip_invalid\u001b[0m\u001b[0;34m)\u001b[0m\u001b[0;34m\u001b[0m\u001b[0;34m\u001b[0m\u001b[0m\n",
      "\u001b[0m\u001b[1;32m   5263\u001b[0m \u001b[0;34m\u001b[0m\u001b[0m\n",
      "\u001b[1;32m   5264\u001b[0m         \u001b[0;31m# Save deep copies of current and new states\u001b[0m\u001b[0;34m\u001b[0m\u001b[0;34m\u001b[0m\u001b[0;34m\u001b[0m\u001b[0m\n",
      "\n",
      "\u001b[0;32m/opt/homebrew/Caskroom/miniforge/base/envs/main_env/lib/python3.8/site-packages/_plotly_utils/basevalidators.py\u001b[0m in \u001b[0;36mvalidate_coerce\u001b[0;34m(self, v, skip_invalid, _validate)\u001b[0m\n",
      "\u001b[1;32m   2453\u001b[0m \u001b[0;34m\u001b[0m\u001b[0m\n",
      "\u001b[1;32m   2454\u001b[0m         \u001b[0;32melif\u001b[0m \u001b[0misinstance\u001b[0m\u001b[0;34m(\u001b[0m\u001b[0mv\u001b[0m\u001b[0;34m,\u001b[0m \u001b[0mdict\u001b[0m\u001b[0;34m)\u001b[0m\u001b[0;34m:\u001b[0m\u001b[0;34m\u001b[0m\u001b[0;34m\u001b[0m\u001b[0m\n",
      "\u001b[0;32m-> 2455\u001b[0;31m             \u001b[0mv\u001b[0m \u001b[0;34m=\u001b[0m \u001b[0mself\u001b[0m\u001b[0;34m.\u001b[0m\u001b[0mdata_class\u001b[0m\u001b[0;34m(\u001b[0m\u001b[0mv\u001b[0m\u001b[0;34m,\u001b[0m \u001b[0mskip_invalid\u001b[0m\u001b[0;34m=\u001b[0m\u001b[0mskip_invalid\u001b[0m\u001b[0;34m,\u001b[0m \u001b[0m_validate\u001b[0m\u001b[0;34m=\u001b[0m\u001b[0m_validate\u001b[0m\u001b[0;34m)\u001b[0m\u001b[0;34m\u001b[0m\u001b[0;34m\u001b[0m\u001b[0m\n",
      "\u001b[0m\u001b[1;32m   2456\u001b[0m \u001b[0;34m\u001b[0m\u001b[0m\n",
      "\u001b[1;32m   2457\u001b[0m         \u001b[0;32melif\u001b[0m \u001b[0misinstance\u001b[0m\u001b[0;34m(\u001b[0m\u001b[0mv\u001b[0m\u001b[0;34m,\u001b[0m \u001b[0mself\u001b[0m\u001b[0;34m.\u001b[0m\u001b[0mdata_class\u001b[0m\u001b[0;34m)\u001b[0m\u001b[0;34m:\u001b[0m\u001b[0;34m\u001b[0m\u001b[0;34m\u001b[0m\u001b[0m\n",
      "\n",
      "\u001b[0;32m/opt/homebrew/Caskroom/miniforge/base/envs/main_env/lib/python3.8/site-packages/plotly/graph_objs/scatter/_marker.py\u001b[0m in \u001b[0;36m__init__\u001b[0;34m(self, arg, autocolorscale, cauto, cmax, cmid, cmin, color, coloraxis, colorbar, colorscale, colorsrc, gradient, line, maxdisplayed, opacity, opacitysrc, reversescale, showscale, size, sizemin, sizemode, sizeref, sizesrc, symbol, symbolsrc, **kwargs)\u001b[0m\n",
      "\u001b[1;32m   1449\u001b[0m         \u001b[0m_v\u001b[0m \u001b[0;34m=\u001b[0m \u001b[0mline\u001b[0m \u001b[0;32mif\u001b[0m \u001b[0mline\u001b[0m \u001b[0;32mis\u001b[0m \u001b[0;32mnot\u001b[0m \u001b[0;32mNone\u001b[0m \u001b[0;32melse\u001b[0m \u001b[0m_v\u001b[0m\u001b[0;34m\u001b[0m\u001b[0;34m\u001b[0m\u001b[0m\n",
      "\u001b[1;32m   1450\u001b[0m         \u001b[0;32mif\u001b[0m \u001b[0m_v\u001b[0m \u001b[0;32mis\u001b[0m \u001b[0;32mnot\u001b[0m \u001b[0;32mNone\u001b[0m\u001b[0;34m:\u001b[0m\u001b[0;34m\u001b[0m\u001b[0;34m\u001b[0m\u001b[0m\n",
      "\u001b[0;32m-> 1451\u001b[0;31m             \u001b[0mself\u001b[0m\u001b[0;34m[\u001b[0m\u001b[0;34m\"line\"\u001b[0m\u001b[0;34m]\u001b[0m \u001b[0;34m=\u001b[0m \u001b[0m_v\u001b[0m\u001b[0;34m\u001b[0m\u001b[0;34m\u001b[0m\u001b[0m\n",
      "\u001b[0m\u001b[1;32m   1452\u001b[0m         \u001b[0m_v\u001b[0m \u001b[0;34m=\u001b[0m \u001b[0marg\u001b[0m\u001b[0;34m.\u001b[0m\u001b[0mpop\u001b[0m\u001b[0;34m(\u001b[0m\u001b[0;34m\"maxdisplayed\"\u001b[0m\u001b[0;34m,\u001b[0m \u001b[0;32mNone\u001b[0m\u001b[0;34m)\u001b[0m\u001b[0;34m\u001b[0m\u001b[0;34m\u001b[0m\u001b[0m\n",
      "\u001b[1;32m   1453\u001b[0m         \u001b[0m_v\u001b[0m \u001b[0;34m=\u001b[0m \u001b[0mmaxdisplayed\u001b[0m \u001b[0;32mif\u001b[0m \u001b[0mmaxdisplayed\u001b[0m \u001b[0;32mis\u001b[0m \u001b[0;32mnot\u001b[0m \u001b[0;32mNone\u001b[0m \u001b[0;32melse\u001b[0m \u001b[0m_v\u001b[0m\u001b[0;34m\u001b[0m\u001b[0;34m\u001b[0m\u001b[0m\n",
      "\n",
      "\u001b[0;32m/opt/homebrew/Caskroom/miniforge/base/envs/main_env/lib/python3.8/site-packages/plotly/basedatatypes.py\u001b[0m in \u001b[0;36m__setitem__\u001b[0;34m(self, prop, value)\u001b[0m\n",
      "\u001b[1;32m   4849\u001b[0m                 \u001b[0;31m# ### Handle compound property ###\u001b[0m\u001b[0;34m\u001b[0m\u001b[0;34m\u001b[0m\u001b[0;34m\u001b[0m\u001b[0m\n",
      "\u001b[1;32m   4850\u001b[0m                 \u001b[0;32mif\u001b[0m \u001b[0misinstance\u001b[0m\u001b[0;34m(\u001b[0m\u001b[0mvalidator\u001b[0m\u001b[0;34m,\u001b[0m \u001b[0mCompoundValidator\u001b[0m\u001b[0;34m)\u001b[0m\u001b[0;34m:\u001b[0m\u001b[0;34m\u001b[0m\u001b[0;34m\u001b[0m\u001b[0m\n",
      "\u001b[0;32m-> 4851\u001b[0;31m                     \u001b[0mself\u001b[0m\u001b[0;34m.\u001b[0m\u001b[0m_set_compound_prop\u001b[0m\u001b[0;34m(\u001b[0m\u001b[0mprop\u001b[0m\u001b[0;34m,\u001b[0m \u001b[0mvalue\u001b[0m\u001b[0;34m)\u001b[0m\u001b[0;34m\u001b[0m\u001b[0;34m\u001b[0m\u001b[0m\n",
      "\u001b[0m\u001b[1;32m   4852\u001b[0m \u001b[0;34m\u001b[0m\u001b[0m\n",
      "\u001b[1;32m   4853\u001b[0m                 \u001b[0;31m# ### Handle compound array property ###\u001b[0m\u001b[0;34m\u001b[0m\u001b[0;34m\u001b[0m\u001b[0;34m\u001b[0m\u001b[0m\n",
      "\n",
      "\u001b[0;32m/opt/homebrew/Caskroom/miniforge/base/envs/main_env/lib/python3.8/site-packages/plotly/basedatatypes.py\u001b[0m in \u001b[0;36m_set_compound_prop\u001b[0;34m(self, prop, val)\u001b[0m\n",
      "\u001b[1;32m   5260\u001b[0m         \u001b[0;31m# ------------\u001b[0m\u001b[0;34m\u001b[0m\u001b[0;34m\u001b[0m\u001b[0;34m\u001b[0m\u001b[0m\n",
      "\u001b[1;32m   5261\u001b[0m         \u001b[0mvalidator\u001b[0m \u001b[0;34m=\u001b[0m \u001b[0mself\u001b[0m\u001b[0;34m.\u001b[0m\u001b[0m_get_validator\u001b[0m\u001b[0;34m(\u001b[0m\u001b[0mprop\u001b[0m\u001b[0;34m)\u001b[0m\u001b[0;34m\u001b[0m\u001b[0;34m\u001b[0m\u001b[0m\n",
      "\u001b[0;32m-> 5262\u001b[0;31m         \u001b[0mval\u001b[0m \u001b[0;34m=\u001b[0m \u001b[0mvalidator\u001b[0m\u001b[0;34m.\u001b[0m\u001b[0mvalidate_coerce\u001b[0m\u001b[0;34m(\u001b[0m\u001b[0mval\u001b[0m\u001b[0;34m,\u001b[0m \u001b[0mskip_invalid\u001b[0m\u001b[0;34m=\u001b[0m\u001b[0mself\u001b[0m\u001b[0;34m.\u001b[0m\u001b[0m_skip_invalid\u001b[0m\u001b[0;34m)\u001b[0m\u001b[0;34m\u001b[0m\u001b[0;34m\u001b[0m\u001b[0m\n",
      "\u001b[0m\u001b[1;32m   5263\u001b[0m \u001b[0;34m\u001b[0m\u001b[0m\n",
      "\u001b[1;32m   5264\u001b[0m         \u001b[0;31m# Save deep copies of current and new states\u001b[0m\u001b[0;34m\u001b[0m\u001b[0;34m\u001b[0m\u001b[0;34m\u001b[0m\u001b[0m\n",
      "\n",
      "\u001b[0;32m/opt/homebrew/Caskroom/miniforge/base/envs/main_env/lib/python3.8/site-packages/_plotly_utils/basevalidators.py\u001b[0m in \u001b[0;36mvalidate_coerce\u001b[0;34m(self, v, skip_invalid, _validate)\u001b[0m\n",
      "\u001b[1;32m   2453\u001b[0m \u001b[0;34m\u001b[0m\u001b[0m\n",
      "\u001b[1;32m   2454\u001b[0m         \u001b[0;32melif\u001b[0m \u001b[0misinstance\u001b[0m\u001b[0;34m(\u001b[0m\u001b[0mv\u001b[0m\u001b[0;34m,\u001b[0m \u001b[0mdict\u001b[0m\u001b[0;34m)\u001b[0m\u001b[0;34m:\u001b[0m\u001b[0;34m\u001b[0m\u001b[0;34m\u001b[0m\u001b[0m\n",
      "\u001b[0;32m-> 2455\u001b[0;31m             \u001b[0mv\u001b[0m \u001b[0;34m=\u001b[0m \u001b[0mself\u001b[0m\u001b[0;34m.\u001b[0m\u001b[0mdata_class\u001b[0m\u001b[0;34m(\u001b[0m\u001b[0mv\u001b[0m\u001b[0;34m,\u001b[0m \u001b[0mskip_invalid\u001b[0m\u001b[0;34m=\u001b[0m\u001b[0mskip_invalid\u001b[0m\u001b[0;34m,\u001b[0m \u001b[0m_validate\u001b[0m\u001b[0;34m=\u001b[0m\u001b[0m_validate\u001b[0m\u001b[0;34m)\u001b[0m\u001b[0;34m\u001b[0m\u001b[0;34m\u001b[0m\u001b[0m\n",
      "\u001b[0m\u001b[1;32m   2456\u001b[0m \u001b[0;34m\u001b[0m\u001b[0m\n",
      "\u001b[1;32m   2457\u001b[0m         \u001b[0;32melif\u001b[0m \u001b[0misinstance\u001b[0m\u001b[0;34m(\u001b[0m\u001b[0mv\u001b[0m\u001b[0;34m,\u001b[0m \u001b[0mself\u001b[0m\u001b[0;34m.\u001b[0m\u001b[0mdata_class\u001b[0m\u001b[0;34m)\u001b[0m\u001b[0;34m:\u001b[0m\u001b[0;34m\u001b[0m\u001b[0;34m\u001b[0m\u001b[0m\n",
      "\n",
      "\u001b[0;32m/opt/homebrew/Caskroom/miniforge/base/envs/main_env/lib/python3.8/site-packages/plotly/graph_objs/scatter/marker/_line.py\u001b[0m in \u001b[0;36m__init__\u001b[0;34m(self, arg, autocolorscale, cauto, cmax, cmid, cmin, color, coloraxis, colorscale, colorsrc, reversescale, width, widthsrc, **kwargs)\u001b[0m\n",
      "\u001b[1;32m    624\u001b[0m         \u001b[0m_v\u001b[0m \u001b[0;34m=\u001b[0m \u001b[0mcolor\u001b[0m \u001b[0;32mif\u001b[0m \u001b[0mcolor\u001b[0m \u001b[0;32mis\u001b[0m \u001b[0;32mnot\u001b[0m \u001b[0;32mNone\u001b[0m \u001b[0;32melse\u001b[0m \u001b[0m_v\u001b[0m\u001b[0;34m\u001b[0m\u001b[0;34m\u001b[0m\u001b[0m\n",
      "\u001b[1;32m    625\u001b[0m         \u001b[0;32mif\u001b[0m \u001b[0m_v\u001b[0m \u001b[0;32mis\u001b[0m \u001b[0;32mnot\u001b[0m \u001b[0;32mNone\u001b[0m\u001b[0;34m:\u001b[0m\u001b[0;34m\u001b[0m\u001b[0;34m\u001b[0m\u001b[0m\n",
      "\u001b[0;32m--> 626\u001b[0;31m             \u001b[0mself\u001b[0m\u001b[0;34m[\u001b[0m\u001b[0;34m\"color\"\u001b[0m\u001b[0;34m]\u001b[0m \u001b[0;34m=\u001b[0m \u001b[0m_v\u001b[0m\u001b[0;34m\u001b[0m\u001b[0;34m\u001b[0m\u001b[0m\n",
      "\u001b[0m\u001b[1;32m    627\u001b[0m         \u001b[0m_v\u001b[0m \u001b[0;34m=\u001b[0m \u001b[0marg\u001b[0m\u001b[0;34m.\u001b[0m\u001b[0mpop\u001b[0m\u001b[0;34m(\u001b[0m\u001b[0;34m\"coloraxis\"\u001b[0m\u001b[0;34m,\u001b[0m \u001b[0;32mNone\u001b[0m\u001b[0;34m)\u001b[0m\u001b[0;34m\u001b[0m\u001b[0;34m\u001b[0m\u001b[0m\n",
      "\u001b[1;32m    628\u001b[0m         \u001b[0m_v\u001b[0m \u001b[0;34m=\u001b[0m \u001b[0mcoloraxis\u001b[0m \u001b[0;32mif\u001b[0m \u001b[0mcoloraxis\u001b[0m \u001b[0;32mis\u001b[0m \u001b[0;32mnot\u001b[0m \u001b[0;32mNone\u001b[0m \u001b[0;32melse\u001b[0m \u001b[0m_v\u001b[0m\u001b[0;34m\u001b[0m\u001b[0;34m\u001b[0m\u001b[0m\n",
      "\n",
      "\u001b[0;32m/opt/homebrew/Caskroom/miniforge/base/envs/main_env/lib/python3.8/site-packages/plotly/basedatatypes.py\u001b[0m in \u001b[0;36m__setitem__\u001b[0;34m(self, prop, value)\u001b[0m\n",
      "\u001b[1;32m   4857\u001b[0m                 \u001b[0;31m# ### Handle simple property ###\u001b[0m\u001b[0;34m\u001b[0m\u001b[0;34m\u001b[0m\u001b[0;34m\u001b[0m\u001b[0m\n",
      "\u001b[1;32m   4858\u001b[0m                 \u001b[0;32melse\u001b[0m\u001b[0;34m:\u001b[0m\u001b[0;34m\u001b[0m\u001b[0;34m\u001b[0m\u001b[0m\n",
      "\u001b[0;32m-> 4859\u001b[0;31m                     \u001b[0mself\u001b[0m\u001b[0;34m.\u001b[0m\u001b[0m_set_prop\u001b[0m\u001b[0;34m(\u001b[0m\u001b[0mprop\u001b[0m\u001b[0;34m,\u001b[0m \u001b[0mvalue\u001b[0m\u001b[0;34m)\u001b[0m\u001b[0;34m\u001b[0m\u001b[0;34m\u001b[0m\u001b[0m\n",
      "\u001b[0m\u001b[1;32m   4860\u001b[0m             \u001b[0;32melse\u001b[0m\u001b[0;34m:\u001b[0m\u001b[0;34m\u001b[0m\u001b[0;34m\u001b[0m\u001b[0m\n",
      "\u001b[1;32m   4861\u001b[0m                 \u001b[0;31m# Make sure properties dict is initialized\u001b[0m\u001b[0;34m\u001b[0m\u001b[0;34m\u001b[0m\u001b[0;34m\u001b[0m\u001b[0m\n",
      "\n",
      "\u001b[0;32m/opt/homebrew/Caskroom/miniforge/base/envs/main_env/lib/python3.8/site-packages/plotly/basedatatypes.py\u001b[0m in \u001b[0;36m_set_prop\u001b[0;34m(self, prop, val)\u001b[0m\n",
      "\u001b[1;32m   5201\u001b[0m                 \u001b[0;32mreturn\u001b[0m\u001b[0;34m\u001b[0m\u001b[0;34m\u001b[0m\u001b[0m\n",
      "\u001b[1;32m   5202\u001b[0m             \u001b[0;32melse\u001b[0m\u001b[0;34m:\u001b[0m\u001b[0;34m\u001b[0m\u001b[0;34m\u001b[0m\u001b[0m\n",
      "\u001b[0;32m-> 5203\u001b[0;31m                 \u001b[0;32mraise\u001b[0m \u001b[0merr\u001b[0m\u001b[0;34m\u001b[0m\u001b[0;34m\u001b[0m\u001b[0m\n",
      "\u001b[0m\u001b[1;32m   5204\u001b[0m \u001b[0;34m\u001b[0m\u001b[0m\n",
      "\u001b[1;32m   5205\u001b[0m         \u001b[0;31m# val is None\u001b[0m\u001b[0;34m\u001b[0m\u001b[0;34m\u001b[0m\u001b[0;34m\u001b[0m\u001b[0m\n",
      "\n",
      "\u001b[0;32m/opt/homebrew/Caskroom/miniforge/base/envs/main_env/lib/python3.8/site-packages/plotly/basedatatypes.py\u001b[0m in \u001b[0;36m_set_prop\u001b[0;34m(self, prop, val)\u001b[0m\n",
      "\u001b[1;32m   5196\u001b[0m \u001b[0;34m\u001b[0m\u001b[0m\n",
      "\u001b[1;32m   5197\u001b[0m         \u001b[0;32mtry\u001b[0m\u001b[0;34m:\u001b[0m\u001b[0;34m\u001b[0m\u001b[0;34m\u001b[0m\u001b[0m\n",
      "\u001b[0;32m-> 5198\u001b[0;31m             \u001b[0mval\u001b[0m \u001b[0;34m=\u001b[0m \u001b[0mvalidator\u001b[0m\u001b[0;34m.\u001b[0m\u001b[0mvalidate_coerce\u001b[0m\u001b[0;34m(\u001b[0m\u001b[0mval\u001b[0m\u001b[0;34m)\u001b[0m\u001b[0;34m\u001b[0m\u001b[0;34m\u001b[0m\u001b[0m\n",
      "\u001b[0m\u001b[1;32m   5199\u001b[0m         \u001b[0;32mexcept\u001b[0m \u001b[0mValueError\u001b[0m \u001b[0;32mas\u001b[0m \u001b[0merr\u001b[0m\u001b[0;34m:\u001b[0m\u001b[0;34m\u001b[0m\u001b[0;34m\u001b[0m\u001b[0m\n",
      "\u001b[1;32m   5200\u001b[0m             \u001b[0;32mif\u001b[0m \u001b[0mself\u001b[0m\u001b[0;34m.\u001b[0m\u001b[0m_skip_invalid\u001b[0m\u001b[0;34m:\u001b[0m\u001b[0;34m\u001b[0m\u001b[0;34m\u001b[0m\u001b[0m\n",
      "\n",
      "\u001b[0;32m/opt/homebrew/Caskroom/miniforge/base/envs/main_env/lib/python3.8/site-packages/_plotly_utils/basevalidators.py\u001b[0m in \u001b[0;36mvalidate_coerce\u001b[0;34m(self, v, should_raise)\u001b[0m\n",
      "\u001b[1;32m   1373\u001b[0m             \u001b[0mvalidated_v\u001b[0m \u001b[0;34m=\u001b[0m \u001b[0mself\u001b[0m\u001b[0;34m.\u001b[0m\u001b[0mvc_scalar\u001b[0m\u001b[0;34m(\u001b[0m\u001b[0mv\u001b[0m\u001b[0;34m)\u001b[0m\u001b[0;34m\u001b[0m\u001b[0;34m\u001b[0m\u001b[0m\n",
      "\u001b[1;32m   1374\u001b[0m             \u001b[0;32mif\u001b[0m \u001b[0mvalidated_v\u001b[0m \u001b[0;32mis\u001b[0m \u001b[0;32mNone\u001b[0m \u001b[0;32mand\u001b[0m \u001b[0mshould_raise\u001b[0m\u001b[0;34m:\u001b[0m\u001b[0;34m\u001b[0m\u001b[0;34m\u001b[0m\u001b[0m\n",
      "\u001b[0;32m-> 1375\u001b[0;31m                 \u001b[0mself\u001b[0m\u001b[0;34m.\u001b[0m\u001b[0mraise_invalid_val\u001b[0m\u001b[0;34m(\u001b[0m\u001b[0mv\u001b[0m\u001b[0;34m)\u001b[0m\u001b[0;34m\u001b[0m\u001b[0;34m\u001b[0m\u001b[0m\n",
      "\u001b[0m\u001b[1;32m   1376\u001b[0m \u001b[0;34m\u001b[0m\u001b[0m\n",
      "\u001b[1;32m   1377\u001b[0m             \u001b[0mv\u001b[0m \u001b[0;34m=\u001b[0m \u001b[0mvalidated_v\u001b[0m\u001b[0;34m\u001b[0m\u001b[0;34m\u001b[0m\u001b[0m\n",
      "\n",
      "\u001b[0;32m/opt/homebrew/Caskroom/miniforge/base/envs/main_env/lib/python3.8/site-packages/_plotly_utils/basevalidators.py\u001b[0m in \u001b[0;36mraise_invalid_val\u001b[0;34m(self, v, inds)\u001b[0m\n",
      "\u001b[1;32m    286\u001b[0m                 \u001b[0mname\u001b[0m \u001b[0;34m+=\u001b[0m \u001b[0;34m\"[\"\u001b[0m \u001b[0;34m+\u001b[0m \u001b[0mstr\u001b[0m\u001b[0;34m(\u001b[0m\u001b[0mi\u001b[0m\u001b[0;34m)\u001b[0m \u001b[0;34m+\u001b[0m \u001b[0;34m\"]\"\u001b[0m\u001b[0;34m\u001b[0m\u001b[0;34m\u001b[0m\u001b[0m\n",
      "\u001b[1;32m    287\u001b[0m \u001b[0;34m\u001b[0m\u001b[0m\n",
      "\u001b[0;32m--> 288\u001b[0;31m         raise ValueError(\n",
      "\u001b[0m\u001b[1;32m    289\u001b[0m             \"\"\"\n",
      "\u001b[1;32m    290\u001b[0m     \u001b[0mInvalid\u001b[0m \u001b[0mvalue\u001b[0m \u001b[0mof\u001b[0m \u001b[0mtype\u001b[0m \u001b[0;34m{\u001b[0m\u001b[0mtyp\u001b[0m\u001b[0;34m}\u001b[0m \u001b[0mreceived\u001b[0m \u001b[0;32mfor\u001b[0m \u001b[0mthe\u001b[0m \u001b[0;34m'{name}'\u001b[0m \u001b[0mproperty\u001b[0m \u001b[0mof\u001b[0m \u001b[0;34m{\u001b[0m\u001b[0mpname\u001b[0m\u001b[0;34m}\u001b[0m\u001b[0;34m\u001b[0m\u001b[0;34m\u001b[0m\u001b[0m\n",
      "\n",
      "\u001b[0;31mValueError\u001b[0m: \n",
      "    Invalid value of type 'builtins.str' received for the 'color' property of scatter.marker.line\n",
      "        Received value: 'darkpink'\n",
      "\n",
      "    The 'color' property is a color and may be specified as:\n",
      "      - A hex string (e.g. '#ff0000')\n",
      "      - An rgb/rgba string (e.g. 'rgb(255,0,0)')\n",
      "      - An hsl/hsla string (e.g. 'hsl(0,100%,50%)')\n",
      "      - An hsv/hsva string (e.g. 'hsv(0,100%,100%)')\n",
      "      - A named CSS color:\n",
      "            aliceblue, antiquewhite, aqua, aquamarine, azure,\n",
      "            beige, bisque, black, blanchedalmond, blue,\n",
      "            blueviolet, brown, burlywood, cadetblue,\n",
      "            chartreuse, chocolate, coral, cornflowerblue,\n",
      "            cornsilk, crimson, cyan, darkblue, darkcyan,\n",
      "            darkgoldenrod, darkgray, darkgrey, darkgreen,\n",
      "            darkkhaki, darkmagenta, darkolivegreen, darkorange,\n",
      "            darkorchid, darkred, darksalmon, darkseagreen,\n",
      "            darkslateblue, darkslategray, darkslategrey,\n",
      "            darkturquoise, darkviolet, deeppink, deepskyblue,\n",
      "            dimgray, dimgrey, dodgerblue, firebrick,\n",
      "            floralwhite, forestgreen, fuchsia, gainsboro,\n",
      "            ghostwhite, gold, goldenrod, gray, grey, green,\n",
      "            greenyellow, honeydew, hotpink, indianred, indigo,\n",
      "            ivory, khaki, lavender, lavenderblush, lawngreen,\n",
      "            lemonchiffon, lightblue, lightcoral, lightcyan,\n",
      "            lightgoldenrodyellow, lightgray, lightgrey,\n",
      "            lightgreen, lightpink, lightsalmon, lightseagreen,\n",
      "            lightskyblue, lightslategray, lightslategrey,\n",
      "            lightsteelblue, lightyellow, lime, limegreen,\n",
      "            linen, magenta, maroon, mediumaquamarine,\n",
      "            mediumblue, mediumorchid, mediumpurple,\n",
      "            mediumseagreen, mediumslateblue, mediumspringgreen,\n",
      "            mediumturquoise, mediumvioletred, midnightblue,\n",
      "            mintcream, mistyrose, moccasin, navajowhite, navy,\n",
      "            oldlace, olive, olivedrab, orange, orangered,\n",
      "            orchid, palegoldenrod, palegreen, paleturquoise,\n",
      "            palevioletred, papayawhip, peachpuff, peru, pink,\n",
      "            plum, powderblue, purple, red, rosybrown,\n",
      "            royalblue, rebeccapurple, saddlebrown, salmon,\n",
      "            sandybrown, seagreen, seashell, sienna, silver,\n",
      "            skyblue, slateblue, slategray, slategrey, snow,\n",
      "            springgreen, steelblue, tan, teal, thistle, tomato,\n",
      "            turquoise, violet, wheat, white, whitesmoke,\n",
      "            yellow, yellowgreen\n",
      "      - A number that will be interpreted as a color\n",
      "        according to scatter.marker.line.colorscale\n",
      "      - A list or array of any of the above\"\n",
      "\n",
      "\n"
     ]
    }
   ],
   "source": [
    "print('''\n",
    "\n",
    "\"\\n    Invalid value of type 'builtins.str' received for the 'color' property of scatter.marker.line\\n        Received value: 'darkpink'\\n\\n    The 'color' property is a color and may be specified as:\\n      - A hex string (e.g. '#ff0000')\\n      - An rgb/rgba string (e.g. 'rgb(255,0,0)')\\n      - An hsl/hsla string (e.g. 'hsl(0,100%,50%)')\\n      - An hsv/hsva string (e.g. 'hsv(0,100%,100%)')\\n      - A named CSS color:\\n            aliceblue, antiquewhite, aqua, aquamarine, azure,\\n            beige, bisque, black, blanchedalmond, blue,\\n            blueviolet, brown, burlywood, cadetblue,\\n            chartreuse, chocolate, coral, cornflowerblue,\\n            cornsilk, crimson, cyan, darkblue, darkcyan,\\n            darkgoldenrod, darkgray, darkgrey, darkgreen,\\n            darkkhaki, darkmagenta, darkolivegreen, darkorange,\\n            darkorchid, darkred, darksalmon, darkseagreen,\\n            darkslateblue, darkslategray, darkslategrey,\\n            darkturquoise, darkviolet, deeppink, deepskyblue,\\n            dimgray, dimgrey, dodgerblue, firebrick,\\n            floralwhite, forestgreen, fuchsia, gainsboro,\\n            ghostwhite, gold, goldenrod, gray, grey, green,\\n            greenyellow, honeydew, hotpink, indianred, indigo,\\n            ivory, khaki, lavender, lavenderblush, lawngreen,\\n            lemonchiffon, lightblue, lightcoral, lightcyan,\\n            lightgoldenrodyellow, lightgray, lightgrey,\\n            lightgreen, lightpink, lightsalmon, lightseagreen,\\n            lightskyblue, lightslategray, lightslategrey,\\n            lightsteelblue, lightyellow, lime, limegreen,\\n            linen, magenta, maroon, mediumaquamarine,\\n            mediumblue, mediumorchid, mediumpurple,\\n            mediumseagreen, mediumslateblue, mediumspringgreen,\\n            mediumturquoise, mediumvioletred, midnightblue,\\n            mintcream, mistyrose, moccasin, navajowhite, navy,\\n            oldlace, olive, olivedrab, orange, orangered,\\n            orchid, palegoldenrod, palegreen, paleturquoise,\\n            palevioletred, papayawhip, peachpuff, peru, pink,\\n            plum, powderblue, purple, red, rosybrown,\\n            royalblue, rebeccapurple, saddlebrown, salmon,\\n            sandybrown, seagreen, seashell, sienna, silver,\\n            skyblue, slateblue, slategray, slategrey, snow,\\n            springgreen, steelblue, tan, teal, thistle, tomato,\\n            turquoise, violet, wheat, white, whitesmoke,\\n            yellow, yellowgreen\\n      - A number that will be interpreted as a color\\n        according to scatter.marker.line.colorscale\\n      - A list or array of any of the above\",\n",
    "\t\"stack\": \"\\u001b[0;31m---------------------------------------------------------------------------\\u001b[0m\\n\\u001b[0;31mValueError\\u001b[0m                                Traceback (most recent call last)\\n\\u001b[0;32m/var/folders/52/s1w1p2q558xfjlyyyjlbfphr0000gn/T/ipykernel_2171/1870627463.py\\u001b[0m in \\u001b[0;36m<cell line: 12>\\u001b[0;34m()\\u001b[0m\\n\\u001b[1;32m     10\\u001b[0m                    text=df[df['gender'] == 'Male']['name'] + '<br>Favorite fruit: ' + df[df['gender'] == 'Male']['fave_fruit'])\\n\\u001b[1;32m     11\\u001b[0m \\u001b[0;34m\\u001b[0m\\u001b[0m\\n\\u001b[0;32m---> 12\\u001b[0;31m females = go.Scatter(x=df[df['gender'] == 'Female']['salary'], y=df[df['gender'] == 'Female']['age'], \\n\\u001b[0m\\u001b[1;32m     13\\u001b[0m                    \\u001b[0mmode\\u001b[0m\\u001b[0;34m=\\u001b[0m\\u001b[0;34m'markers'\\u001b[0m\\u001b[0;34m,\\u001b[0m \\u001b[0mname\\u001b[0m\\u001b[0;34m=\\u001b[0m\\u001b[0;34m'Females'\\u001b[0m\\u001b[0;34m,\\u001b[0m\\u001b[0;34m\\u001b[0m\\u001b[0;34m\\u001b[0m\\u001b[0m\\n\\u001b[1;32m     14\\u001b[0m                    marker=dict(size=df[df['gender'] == 'Female']['salary']/1000,\\n\\n\\u001b[0;32m/opt/homebrew/Caskroom/miniforge/base/envs/main_env/lib/python3.8/site-packages/plotly/graph_objs/_scatter.py\\u001b[0m in \\u001b[0;36m__init__\\u001b[0;34m(self, arg, cliponaxis, connectgaps, customdata, customdatasrc, dx, dy, error_x, error_y, fill, fillcolor, fillpattern, groupnorm, hoverinfo, hoverinfosrc, hoverlabel, hoveron, hovertemplate, hovertemplatesrc, hovertext, hovertextsrc, ids, idssrc, legendgroup, legendgrouptitle, legendrank, line, marker, meta, metasrc, mode, name, opacity, orientation, selected, selectedpoints, showlegend, stackgaps, stackgroup, stream, text, textfont, textposition, textpositionsrc, textsrc, texttemplate, texttemplatesrc, uid, uirevision, unselected, visible, x, x0, xaxis, xcalendar, xhoverformat, xperiod, xperiod0, xperiodalignment, xsrc, y, y0, yaxis, ycalendar, yhoverformat, yperiod, yperiod0, yperiodalignment, ysrc, **kwargs)\\u001b[0m\\n\\u001b[1;32m   3194\\u001b[0m         \\u001b[0m_v\\u001b[0m \\u001b[0;34m=\\u001b[0m \\u001b[0mmarker\\u001b[0m \\u001b[0;32mif\\u001b[0m \\u001b[0mmarker\\u001b[0m \\u001b[0;32mis\\u001b[0m \\u001b[0;32mnot\\u001b[0m \\u001b[0;32mNone\\u001b[0m \\u001b[0;32melse\\u001b[0m \\u001b[0m_v\\u001b[0m\\u001b[0;34m\\u001b[0m\\u001b[0;34m\\u001b[0m\\u001b[0m\\n\\u001b[1;32m   3195\\u001b[0m         \\u001b[0;32mif\\u001b[0m \\u001b[0m_v\\u001b[0m \\u001b[0;32mis\\u001b[0m \\u001b[0;32mnot\\u001b[0m \\u001b[0;32mNone\\u001b[0m\\u001b[0;34m:\\u001b[0m\\u001b[0;34m\\u001b[0m\\u001b[0;34m\\u001b[0m\\u001b[0m\\n\\u001b[0;32m-> 3196\\u001b[0;31m             \\u001b[0mself\\u001b[0m\\u001b[0;34m[\\u001b[0m\\u001b[0;34m\\\"marker\\\"\\u001b[0m\\u001b[0;34m]\\u001b[0m \\u001b[0;34m=\\u001b[0m \\u001b[0m_v\\u001b[0m\\u001b[0;34m\\u001b[0m\\u001b[0;34m\\u001b[0m\\u001b[0m\\n\\u001b[0m\\u001b[1;32m   3197\\u001b[0m         \\u001b[0m_v\\u001b[0m \\u001b[0;34m=\\u001b[0m \\u001b[0marg\\u001b[0m\\u001b[0;34m.\\u001b[0m\\u001b[0mpop\\u001b[0m\\u001b[0;34m(\\u001b[0m\\u001b[0;34m\\\"meta\\\"\\u001b[0m\\u001b[0;34m,\\u001b[0m \\u001b[0;32mNone\\u001b[0m\\u001b[0;34m)\\u001b[0m\\u001b[0;34m\\u001b[0m\\u001b[0;34m\\u001b[0m\\u001b[0m\\n\\u001b[1;32m   3198\\u001b[0m         \\u001b[0m_v\\u001b[0m \\u001b[0;34m=\\u001b[0m \\u001b[0mmeta\\u001b[0m \\u001b[0;32mif\\u001b[0m \\u001b[0mmeta\\u001b[0m \\u001b[0;32mis\\u001b[0m \\u001b[0;32mnot\\u001b[0m \\u001b[0;32mNone\\u001b[0m \\u001b[0;32melse\\u001b[0m \\u001b[0m_v\\u001b[0m\\u001b[0;34m\\u001b[0m\\u001b[0;34m\\u001b[0m\\u001b[0m\\n\\n\\u001b[0;32m/opt/homebrew/Caskroom/miniforge/base/envs/main_env/lib/python3.8/site-packages/plotly/basedatatypes.py\\u001b[0m in \\u001b[0;36m__setitem__\\u001b[0;34m(self, prop, value)\\u001b[0m\\n\\u001b[1;32m   4849\\u001b[0m                 \\u001b[0;31m# ### Handle compound property ###\\u001b[0m\\u001b[0;34m\\u001b[0m\\u001b[0;34m\\u001b[0m\\u001b[0;34m\\u001b[0m\\u001b[0m\\n\\u001b[1;32m   4850\\u001b[0m                 \\u001b[0;32mif\\u001b[0m \\u001b[0misinstance\\u001b[0m\\u001b[0;34m(\\u001b[0m\\u001b[0mvalidator\\u001b[0m\\u001b[0;34m,\\u001b[0m \\u001b[0mCompoundValidator\\u001b[0m\\u001b[0;34m)\\u001b[0m\\u001b[0;34m:\\u001b[0m\\u001b[0;34m\\u001b[0m\\u001b[0;34m\\u001b[0m\\u001b[0m\\n\\u001b[0;32m-> 4851\\u001b[0;31m                     \\u001b[0mself\\u001b[0m\\u001b[0;34m.\\u001b[0m\\u001b[0m_set_compound_prop\\u001b[0m\\u001b[0;34m(\\u001b[0m\\u001b[0mprop\\u001b[0m\\u001b[0;34m,\\u001b[0m \\u001b[0mvalue\\u001b[0m\\u001b[0;34m)\\u001b[0m\\u001b[0;34m\\u001b[0m\\u001b[0;34m\\u001b[0m\\u001b[0m\\n\\u001b[0m\\u001b[1;32m   4852\\u001b[0m \\u001b[0;34m\\u001b[0m\\u001b[0m\\n\\u001b[1;32m   4853\\u001b[0m                 \\u001b[0;31m# ### Handle compound array property ###\\u001b[0m\\u001b[0;34m\\u001b[0m\\u001b[0;34m\\u001b[0m\\u001b[0;34m\\u001b[0m\\u001b[0m\\n\\n\\u001b[0;32m/opt/homebrew/Caskroom/miniforge/base/envs/main_env/lib/python3.8/site-packages/plotly/basedatatypes.py\\u001b[0m in \\u001b[0;36m_set_compound_prop\\u001b[0;34m(self, prop, val)\\u001b[0m\\n\\u001b[1;32m   5260\\u001b[0m         \\u001b[0;31m# ------------\\u001b[0m\\u001b[0;34m\\u001b[0m\\u001b[0;34m\\u001b[0m\\u001b[0;34m\\u001b[0m\\u001b[0m\\n\\u001b[1;32m   5261\\u001b[0m         \\u001b[0mvalidator\\u001b[0m \\u001b[0;34m=\\u001b[0m \\u001b[0mself\\u001b[0m\\u001b[0;34m.\\u001b[0m\\u001b[0m_get_validator\\u001b[0m\\u001b[0;34m(\\u001b[0m\\u001b[0mprop\\u001b[0m\\u001b[0;34m)\\u001b[0m\\u001b[0;34m\\u001b[0m\\u001b[0;34m\\u001b[0m\\u001b[0m\\n\\u001b[0;32m-> 5262\\u001b[0;31m         \\u001b[0mval\\u001b[0m \\u001b[0;34m=\\u001b[0m \\u001b[0mvalidator\\u001b[0m\\u001b[0;34m.\\u001b[0m\\u001b[0mvalidate_coerce\\u001b[0m\\u001b[0;34m(\\u001b[0m\\u001b[0mval\\u001b[0m\\u001b[0;34m,\\u001b[0m \\u001b[0mskip_invalid\\u001b[0m\\u001b[0;34m=\\u001b[0m\\u001b[0mself\\u001b[0m\\u001b[0;34m.\\u001b[0m\\u001b[0m_skip_invalid\\u001b[0m\\u001b[0;34m)\\u001b[0m\\u001b[0;34m\\u001b[0m\\u001b[0;34m\\u001b[0m\\u001b[0m\\n\\u001b[0m\\u001b[1;32m   5263\\u001b[0m \\u001b[0;34m\\u001b[0m\\u001b[0m\\n\\u001b[1;32m   5264\\u001b[0m         \\u001b[0;31m# Save deep copies of current and new states\\u001b[0m\\u001b[0;34m\\u001b[0m\\u001b[0;34m\\u001b[0m\\u001b[0;34m\\u001b[0m\\u001b[0m\\n\\n\\u001b[0;32m/opt/homebrew/Caskroom/miniforge/base/envs/main_env/lib/python3.8/site-packages/_plotly_utils/basevalidators.py\\u001b[0m in \\u001b[0;36mvalidate_coerce\\u001b[0;34m(self, v, skip_invalid, _validate)\\u001b[0m\\n\\u001b[1;32m   2453\\u001b[0m \\u001b[0;34m\\u001b[0m\\u001b[0m\\n\\u001b[1;32m   2454\\u001b[0m         \\u001b[0;32melif\\u001b[0m \\u001b[0misinstance\\u001b[0m\\u001b[0;34m(\\u001b[0m\\u001b[0mv\\u001b[0m\\u001b[0;34m,\\u001b[0m \\u001b[0mdict\\u001b[0m\\u001b[0;34m)\\u001b[0m\\u001b[0;34m:\\u001b[0m\\u001b[0;34m\\u001b[0m\\u001b[0;34m\\u001b[0m\\u001b[0m\\n\\u001b[0;32m-> 2455\\u001b[0;31m             \\u001b[0mv\\u001b[0m \\u001b[0;34m=\\u001b[0m \\u001b[0mself\\u001b[0m\\u001b[0;34m.\\u001b[0m\\u001b[0mdata_class\\u001b[0m\\u001b[0;34m(\\u001b[0m\\u001b[0mv\\u001b[0m\\u001b[0;34m,\\u001b[0m \\u001b[0mskip_invalid\\u001b[0m\\u001b[0;34m=\\u001b[0m\\u001b[0mskip_invalid\\u001b[0m\\u001b[0;34m,\\u001b[0m \\u001b[0m_validate\\u001b[0m\\u001b[0;34m=\\u001b[0m\\u001b[0m_validate\\u001b[0m\\u001b[0;34m)\\u001b[0m\\u001b[0;34m\\u001b[0m\\u001b[0;34m\\u001b[0m\\u001b[0m\\n\\u001b[0m\\u001b[1;32m   2456\\u001b[0m \\u001b[0;34m\\u001b[0m\\u001b[0m\\n\\u001b[1;32m   2457\\u001b[0m         \\u001b[0;32melif\\u001b[0m \\u001b[0misinstance\\u001b[0m\\u001b[0;34m(\\u001b[0m\\u001b[0mv\\u001b[0m\\u001b[0;34m,\\u001b[0m \\u001b[0mself\\u001b[0m\\u001b[0;34m.\\u001b[0m\\u001b[0mdata_class\\u001b[0m\\u001b[0;34m)\\u001b[0m\\u001b[0;34m:\\u001b[0m\\u001b[0;34m\\u001b[0m\\u001b[0;34m\\u001b[0m\\u001b[0m\\n\\n\\u001b[0;32m/opt/homebrew/Caskroom/miniforge/base/envs/main_env/lib/python3.8/site-packages/plotly/graph_objs/scatter/_marker.py\\u001b[0m in \\u001b[0;36m__init__\\u001b[0;34m(self, arg, autocolorscale, cauto, cmax, cmid, cmin, color, coloraxis, colorbar, colorscale, colorsrc, gradient, line, maxdisplayed, opacity, opacitysrc, reversescale, showscale, size, sizemin, sizemode, sizeref, sizesrc, symbol, symbolsrc, **kwargs)\\u001b[0m\\n\\u001b[1;32m   1449\\u001b[0m         \\u001b[0m_v\\u001b[0m \\u001b[0;34m=\\u001b[0m \\u001b[0mline\\u001b[0m \\u001b[0;32mif\\u001b[0m \\u001b[0mline\\u001b[0m \\u001b[0;32mis\\u001b[0m \\u001b[0;32mnot\\u001b[0m \\u001b[0;32mNone\\u001b[0m \\u001b[0;32melse\\u001b[0m \\u001b[0m_v\\u001b[0m\\u001b[0;34m\\u001b[0m\\u001b[0;34m\\u001b[0m\\u001b[0m\\n\\u001b[1;32m   1450\\u001b[0m         \\u001b[0;32mif\\u001b[0m \\u001b[0m_v\\u001b[0m \\u001b[0;32mis\\u001b[0m \\u001b[0;32mnot\\u001b[0m \\u001b[0;32mNone\\u001b[0m\\u001b[0;34m:\\u001b[0m\\u001b[0;34m\\u001b[0m\\u001b[0;34m\\u001b[0m\\u001b[0m\\n\\u001b[0;32m-> 1451\\u001b[0;31m             \\u001b[0mself\\u001b[0m\\u001b[0;34m[\\u001b[0m\\u001b[0;34m\\\"line\\\"\\u001b[0m\\u001b[0;34m]\\u001b[0m \\u001b[0;34m=\\u001b[0m \\u001b[0m_v\\u001b[0m\\u001b[0;34m\\u001b[0m\\u001b[0;34m\\u001b[0m\\u001b[0m\\n\\u001b[0m\\u001b[1;32m   1452\\u001b[0m         \\u001b[0m_v\\u001b[0m \\u001b[0;34m=\\u001b[0m \\u001b[0marg\\u001b[0m\\u001b[0;34m.\\u001b[0m\\u001b[0mpop\\u001b[0m\\u001b[0;34m(\\u001b[0m\\u001b[0;34m\\\"maxdisplayed\\\"\\u001b[0m\\u001b[0;34m,\\u001b[0m \\u001b[0;32mNone\\u001b[0m\\u001b[0;34m)\\u001b[0m\\u001b[0;34m\\u001b[0m\\u001b[0;34m\\u001b[0m\\u001b[0m\\n\\u001b[1;32m   1453\\u001b[0m         \\u001b[0m_v\\u001b[0m \\u001b[0;34m=\\u001b[0m \\u001b[0mmaxdisplayed\\u001b[0m \\u001b[0;32mif\\u001b[0m \\u001b[0mmaxdisplayed\\u001b[0m \\u001b[0;32mis\\u001b[0m \\u001b[0;32mnot\\u001b[0m \\u001b[0;32mNone\\u001b[0m \\u001b[0;32melse\\u001b[0m \\u001b[0m_v\\u001b[0m\\u001b[0;34m\\u001b[0m\\u001b[0;34m\\u001b[0m\\u001b[0m\\n\\n\\u001b[0;32m/opt/homebrew/Caskroom/miniforge/base/envs/main_env/lib/python3.8/site-packages/plotly/basedatatypes.py\\u001b[0m in \\u001b[0;36m__setitem__\\u001b[0;34m(self, prop, value)\\u001b[0m\\n\\u001b[1;32m   4849\\u001b[0m                 \\u001b[0;31m# ### Handle compound property ###\\u001b[0m\\u001b[0;34m\\u001b[0m\\u001b[0;34m\\u001b[0m\\u001b[0;34m\\u001b[0m\\u001b[0m\\n\\u001b[1;32m   4850\\u001b[0m                 \\u001b[0;32mif\\u001b[0m \\u001b[0misinstance\\u001b[0m\\u001b[0;34m(\\u001b[0m\\u001b[0mvalidator\\u001b[0m\\u001b[0;34m,\\u001b[0m \\u001b[0mCompoundValidator\\u001b[0m\\u001b[0;34m)\\u001b[0m\\u001b[0;34m:\\u001b[0m\\u001b[0;34m\\u001b[0m\\u001b[0;34m\\u001b[0m\\u001b[0m\\n\\u001b[0;32m-> 4851\\u001b[0;31m                     \\u001b[0mself\\u001b[0m\\u001b[0;34m.\\u001b[0m\\u001b[0m_set_compound_prop\\u001b[0m\\u001b[0;34m(\\u001b[0m\\u001b[0mprop\\u001b[0m\\u001b[0;34m,\\u001b[0m \\u001b[0mvalue\\u001b[0m\\u001b[0;34m)\\u001b[0m\\u001b[0;34m\\u001b[0m\\u001b[0;34m\\u001b[0m\\u001b[0m\\n\\u001b[0m\\u001b[1;32m   4852\\u001b[0m \\u001b[0;34m\\u001b[0m\\u001b[0m\\n\\u001b[1;32m   4853\\u001b[0m                 \\u001b[0;31m# ### Handle compound array property ###\\u001b[0m\\u001b[0;34m\\u001b[0m\\u001b[0;34m\\u001b[0m\\u001b[0;34m\\u001b[0m\\u001b[0m\\n\\n\\u001b[0;32m/opt/homebrew/Caskroom/miniforge/base/envs/main_env/lib/python3.8/site-packages/plotly/basedatatypes.py\\u001b[0m in \\u001b[0;36m_set_compound_prop\\u001b[0;34m(self, prop, val)\\u001b[0m\\n\\u001b[1;32m   5260\\u001b[0m         \\u001b[0;31m# ------------\\u001b[0m\\u001b[0;34m\\u001b[0m\\u001b[0;34m\\u001b[0m\\u001b[0;34m\\u001b[0m\\u001b[0m\\n\\u001b[1;32m   5261\\u001b[0m         \\u001b[0mvalidator\\u001b[0m \\u001b[0;34m=\\u001b[0m \\u001b[0mself\\u001b[0m\\u001b[0;34m.\\u001b[0m\\u001b[0m_get_validator\\u001b[0m\\u001b[0;34m(\\u001b[0m\\u001b[0mprop\\u001b[0m\\u001b[0;34m)\\u001b[0m\\u001b[0;34m\\u001b[0m\\u001b[0;34m\\u001b[0m\\u001b[0m\\n\\u001b[0;32m-> 5262\\u001b[0;31m         \\u001b[0mval\\u001b[0m \\u001b[0;34m=\\u001b[0m \\u001b[0mvalidator\\u001b[0m\\u001b[0;34m.\\u001b[0m\\u001b[0mvalidate_coerce\\u001b[0m\\u001b[0;34m(\\u001b[0m\\u001b[0mval\\u001b[0m\\u001b[0;34m,\\u001b[0m \\u001b[0mskip_invalid\\u001b[0m\\u001b[0;34m=\\u001b[0m\\u001b[0mself\\u001b[0m\\u001b[0;34m.\\u001b[0m\\u001b[0m_skip_invalid\\u001b[0m\\u001b[0;34m)\\u001b[0m\\u001b[0;34m\\u001b[0m\\u001b[0;34m\\u001b[0m\\u001b[0m\\n\\u001b[0m\\u001b[1;32m   5263\\u001b[0m \\u001b[0;34m\\u001b[0m\\u001b[0m\\n\\u001b[1;32m   5264\\u001b[0m         \\u001b[0;31m# Save deep copies of current and new states\\u001b[0m\\u001b[0;34m\\u001b[0m\\u001b[0;34m\\u001b[0m\\u001b[0;34m\\u001b[0m\\u001b[0m\\n\\n\\u001b[0;32m/opt/homebrew/Caskroom/miniforge/base/envs/main_env/lib/python3.8/site-packages/_plotly_utils/basevalidators.py\\u001b[0m in \\u001b[0;36mvalidate_coerce\\u001b[0;34m(self, v, skip_invalid, _validate)\\u001b[0m\\n\\u001b[1;32m   2453\\u001b[0m \\u001b[0;34m\\u001b[0m\\u001b[0m\\n\\u001b[1;32m   2454\\u001b[0m         \\u001b[0;32melif\\u001b[0m \\u001b[0misinstance\\u001b[0m\\u001b[0;34m(\\u001b[0m\\u001b[0mv\\u001b[0m\\u001b[0;34m,\\u001b[0m \\u001b[0mdict\\u001b[0m\\u001b[0;34m)\\u001b[0m\\u001b[0;34m:\\u001b[0m\\u001b[0;34m\\u001b[0m\\u001b[0;34m\\u001b[0m\\u001b[0m\\n\\u001b[0;32m-> 2455\\u001b[0;31m             \\u001b[0mv\\u001b[0m \\u001b[0;34m=\\u001b[0m \\u001b[0mself\\u001b[0m\\u001b[0;34m.\\u001b[0m\\u001b[0mdata_class\\u001b[0m\\u001b[0;34m(\\u001b[0m\\u001b[0mv\\u001b[0m\\u001b[0;34m,\\u001b[0m \\u001b[0mskip_invalid\\u001b[0m\\u001b[0;34m=\\u001b[0m\\u001b[0mskip_invalid\\u001b[0m\\u001b[0;34m,\\u001b[0m \\u001b[0m_validate\\u001b[0m\\u001b[0;34m=\\u001b[0m\\u001b[0m_validate\\u001b[0m\\u001b[0;34m)\\u001b[0m\\u001b[0;34m\\u001b[0m\\u001b[0;34m\\u001b[0m\\u001b[0m\\n\\u001b[0m\\u001b[1;32m   2456\\u001b[0m \\u001b[0;34m\\u001b[0m\\u001b[0m\\n\\u001b[1;32m   2457\\u001b[0m         \\u001b[0;32melif\\u001b[0m \\u001b[0misinstance\\u001b[0m\\u001b[0;34m(\\u001b[0m\\u001b[0mv\\u001b[0m\\u001b[0;34m,\\u001b[0m \\u001b[0mself\\u001b[0m\\u001b[0;34m.\\u001b[0m\\u001b[0mdata_class\\u001b[0m\\u001b[0;34m)\\u001b[0m\\u001b[0;34m:\\u001b[0m\\u001b[0;34m\\u001b[0m\\u001b[0;34m\\u001b[0m\\u001b[0m\\n\\n\\u001b[0;32m/opt/homebrew/Caskroom/miniforge/base/envs/main_env/lib/python3.8/site-packages/plotly/graph_objs/scatter/marker/_line.py\\u001b[0m in \\u001b[0;36m__init__\\u001b[0;34m(self, arg, autocolorscale, cauto, cmax, cmid, cmin, color, coloraxis, colorscale, colorsrc, reversescale, width, widthsrc, **kwargs)\\u001b[0m\\n\\u001b[1;32m    624\\u001b[0m         \\u001b[0m_v\\u001b[0m \\u001b[0;34m=\\u001b[0m \\u001b[0mcolor\\u001b[0m \\u001b[0;32mif\\u001b[0m \\u001b[0mcolor\\u001b[0m \\u001b[0;32mis\\u001b[0m \\u001b[0;32mnot\\u001b[0m \\u001b[0;32mNone\\u001b[0m \\u001b[0;32melse\\u001b[0m \\u001b[0m_v\\u001b[0m\\u001b[0;34m\\u001b[0m\\u001b[0;34m\\u001b[0m\\u001b[0m\\n\\u001b[1;32m    625\\u001b[0m         \\u001b[0;32mif\\u001b[0m \\u001b[0m_v\\u001b[0m \\u001b[0;32mis\\u001b[0m \\u001b[0;32mnot\\u001b[0m \\u001b[0;32mNone\\u001b[0m\\u001b[0;34m:\\u001b[0m\\u001b[0;34m\\u001b[0m\\u001b[0;34m\\u001b[0m\\u001b[0m\\n\\u001b[0;32m--> 626\\u001b[0;31m             \\u001b[0mself\\u001b[0m\\u001b[0;34m[\\u001b[0m\\u001b[0;34m\\\"color\\\"\\u001b[0m\\u001b[0;34m]\\u001b[0m \\u001b[0;34m=\\u001b[0m \\u001b[0m_v\\u001b[0m\\u001b[0;34m\\u001b[0m\\u001b[0;34m\\u001b[0m\\u001b[0m\\n\\u001b[0m\\u001b[1;32m    627\\u001b[0m         \\u001b[0m_v\\u001b[0m \\u001b[0;34m=\\u001b[0m \\u001b[0marg\\u001b[0m\\u001b[0;34m.\\u001b[0m\\u001b[0mpop\\u001b[0m\\u001b[0;34m(\\u001b[0m\\u001b[0;34m\\\"coloraxis\\\"\\u001b[0m\\u001b[0;34m,\\u001b[0m \\u001b[0;32mNone\\u001b[0m\\u001b[0;34m)\\u001b[0m\\u001b[0;34m\\u001b[0m\\u001b[0;34m\\u001b[0m\\u001b[0m\\n\\u001b[1;32m    628\\u001b[0m         \\u001b[0m_v\\u001b[0m \\u001b[0;34m=\\u001b[0m \\u001b[0mcoloraxis\\u001b[0m \\u001b[0;32mif\\u001b[0m \\u001b[0mcoloraxis\\u001b[0m \\u001b[0;32mis\\u001b[0m \\u001b[0;32mnot\\u001b[0m \\u001b[0;32mNone\\u001b[0m \\u001b[0;32melse\\u001b[0m \\u001b[0m_v\\u001b[0m\\u001b[0;34m\\u001b[0m\\u001b[0;34m\\u001b[0m\\u001b[0m\\n\\n\\u001b[0;32m/opt/homebrew/Caskroom/miniforge/base/envs/main_env/lib/python3.8/site-packages/plotly/basedatatypes.py\\u001b[0m in \\u001b[0;36m__setitem__\\u001b[0;34m(self, prop, value)\\u001b[0m\\n\\u001b[1;32m   4857\\u001b[0m                 \\u001b[0;31m# ### Handle simple property ###\\u001b[0m\\u001b[0;34m\\u001b[0m\\u001b[0;34m\\u001b[0m\\u001b[0;34m\\u001b[0m\\u001b[0m\\n\\u001b[1;32m   4858\\u001b[0m                 \\u001b[0;32melse\\u001b[0m\\u001b[0;34m:\\u001b[0m\\u001b[0;34m\\u001b[0m\\u001b[0;34m\\u001b[0m\\u001b[0m\\n\\u001b[0;32m-> 4859\\u001b[0;31m                     \\u001b[0mself\\u001b[0m\\u001b[0;34m.\\u001b[0m\\u001b[0m_set_prop\\u001b[0m\\u001b[0;34m(\\u001b[0m\\u001b[0mprop\\u001b[0m\\u001b[0;34m,\\u001b[0m \\u001b[0mvalue\\u001b[0m\\u001b[0;34m)\\u001b[0m\\u001b[0;34m\\u001b[0m\\u001b[0;34m\\u001b[0m\\u001b[0m\\n\\u001b[0m\\u001b[1;32m   4860\\u001b[0m             \\u001b[0;32melse\\u001b[0m\\u001b[0;34m:\\u001b[0m\\u001b[0;34m\\u001b[0m\\u001b[0;34m\\u001b[0m\\u001b[0m\\n\\u001b[1;32m   4861\\u001b[0m                 \\u001b[0;31m# Make sure properties dict is initialized\\u001b[0m\\u001b[0;34m\\u001b[0m\\u001b[0;34m\\u001b[0m\\u001b[0;34m\\u001b[0m\\u001b[0m\\n\\n\\u001b[0;32m/opt/homebrew/Caskroom/miniforge/base/envs/main_env/lib/python3.8/site-packages/plotly/basedatatypes.py\\u001b[0m in \\u001b[0;36m_set_prop\\u001b[0;34m(self, prop, val)\\u001b[0m\\n\\u001b[1;32m   5201\\u001b[0m                 \\u001b[0;32mreturn\\u001b[0m\\u001b[0;34m\\u001b[0m\\u001b[0;34m\\u001b[0m\\u001b[0m\\n\\u001b[1;32m   5202\\u001b[0m             \\u001b[0;32melse\\u001b[0m\\u001b[0;34m:\\u001b[0m\\u001b[0;34m\\u001b[0m\\u001b[0;34m\\u001b[0m\\u001b[0m\\n\\u001b[0;32m-> 5203\\u001b[0;31m                 \\u001b[0;32mraise\\u001b[0m \\u001b[0merr\\u001b[0m\\u001b[0;34m\\u001b[0m\\u001b[0;34m\\u001b[0m\\u001b[0m\\n\\u001b[0m\\u001b[1;32m   5204\\u001b[0m \\u001b[0;34m\\u001b[0m\\u001b[0m\\n\\u001b[1;32m   5205\\u001b[0m         \\u001b[0;31m# val is None\\u001b[0m\\u001b[0;34m\\u001b[0m\\u001b[0;34m\\u001b[0m\\u001b[0;34m\\u001b[0m\\u001b[0m\\n\\n\\u001b[0;32m/opt/homebrew/Caskroom/miniforge/base/envs/main_env/lib/python3.8/site-packages/plotly/basedatatypes.py\\u001b[0m in \\u001b[0;36m_set_prop\\u001b[0;34m(self, prop, val)\\u001b[0m\\n\\u001b[1;32m   5196\\u001b[0m \\u001b[0;34m\\u001b[0m\\u001b[0m\\n\\u001b[1;32m   5197\\u001b[0m         \\u001b[0;32mtry\\u001b[0m\\u001b[0;34m:\\u001b[0m\\u001b[0;34m\\u001b[0m\\u001b[0;34m\\u001b[0m\\u001b[0m\\n\\u001b[0;32m-> 5198\\u001b[0;31m             \\u001b[0mval\\u001b[0m \\u001b[0;34m=\\u001b[0m \\u001b[0mvalidator\\u001b[0m\\u001b[0;34m.\\u001b[0m\\u001b[0mvalidate_coerce\\u001b[0m\\u001b[0;34m(\\u001b[0m\\u001b[0mval\\u001b[0m\\u001b[0;34m)\\u001b[0m\\u001b[0;34m\\u001b[0m\\u001b[0;34m\\u001b[0m\\u001b[0m\\n\\u001b[0m\\u001b[1;32m   5199\\u001b[0m         \\u001b[0;32mexcept\\u001b[0m \\u001b[0mValueError\\u001b[0m \\u001b[0;32mas\\u001b[0m \\u001b[0merr\\u001b[0m\\u001b[0;34m:\\u001b[0m\\u001b[0;34m\\u001b[0m\\u001b[0;34m\\u001b[0m\\u001b[0m\\n\\u001b[1;32m   5200\\u001b[0m             \\u001b[0;32mif\\u001b[0m \\u001b[0mself\\u001b[0m\\u001b[0;34m.\\u001b[0m\\u001b[0m_skip_invalid\\u001b[0m\\u001b[0;34m:\\u001b[0m\\u001b[0;34m\\u001b[0m\\u001b[0;34m\\u001b[0m\\u001b[0m\\n\\n\\u001b[0;32m/opt/homebrew/Caskroom/miniforge/base/envs/main_env/lib/python3.8/site-packages/_plotly_utils/basevalidators.py\\u001b[0m in \\u001b[0;36mvalidate_coerce\\u001b[0;34m(self, v, should_raise)\\u001b[0m\\n\\u001b[1;32m   1373\\u001b[0m             \\u001b[0mvalidated_v\\u001b[0m \\u001b[0;34m=\\u001b[0m \\u001b[0mself\\u001b[0m\\u001b[0;34m.\\u001b[0m\\u001b[0mvc_scalar\\u001b[0m\\u001b[0;34m(\\u001b[0m\\u001b[0mv\\u001b[0m\\u001b[0;34m)\\u001b[0m\\u001b[0;34m\\u001b[0m\\u001b[0;34m\\u001b[0m\\u001b[0m\\n\\u001b[1;32m   1374\\u001b[0m             \\u001b[0;32mif\\u001b[0m \\u001b[0mvalidated_v\\u001b[0m \\u001b[0;32mis\\u001b[0m \\u001b[0;32mNone\\u001b[0m \\u001b[0;32mand\\u001b[0m \\u001b[0mshould_raise\\u001b[0m\\u001b[0;34m:\\u001b[0m\\u001b[0;34m\\u001b[0m\\u001b[0;34m\\u001b[0m\\u001b[0m\\n\\u001b[0;32m-> 1375\\u001b[0;31m                 \\u001b[0mself\\u001b[0m\\u001b[0;34m.\\u001b[0m\\u001b[0mraise_invalid_val\\u001b[0m\\u001b[0;34m(\\u001b[0m\\u001b[0mv\\u001b[0m\\u001b[0;34m)\\u001b[0m\\u001b[0;34m\\u001b[0m\\u001b[0;34m\\u001b[0m\\u001b[0m\\n\\u001b[0m\\u001b[1;32m   1376\\u001b[0m \\u001b[0;34m\\u001b[0m\\u001b[0m\\n\\u001b[1;32m   1377\\u001b[0m             \\u001b[0mv\\u001b[0m \\u001b[0;34m=\\u001b[0m \\u001b[0mvalidated_v\\u001b[0m\\u001b[0;34m\\u001b[0m\\u001b[0;34m\\u001b[0m\\u001b[0m\\n\\n\\u001b[0;32m/opt/homebrew/Caskroom/miniforge/base/envs/main_env/lib/python3.8/site-packages/_plotly_utils/basevalidators.py\\u001b[0m in \\u001b[0;36mraise_invalid_val\\u001b[0;34m(self, v, inds)\\u001b[0m\\n\\u001b[1;32m    286\\u001b[0m                 \\u001b[0mname\\u001b[0m \\u001b[0;34m+=\\u001b[0m \\u001b[0;34m\\\"[\\\"\\u001b[0m \\u001b[0;34m+\\u001b[0m \\u001b[0mstr\\u001b[0m\\u001b[0;34m(\\u001b[0m\\u001b[0mi\\u001b[0m\\u001b[0;34m)\\u001b[0m \\u001b[0;34m+\\u001b[0m \\u001b[0;34m\\\"]\\\"\\u001b[0m\\u001b[0;34m\\u001b[0m\\u001b[0;34m\\u001b[0m\\u001b[0m\\n\\u001b[1;32m    287\\u001b[0m \\u001b[0;34m\\u001b[0m\\u001b[0m\\n\\u001b[0;32m--> 288\\u001b[0;31m         raise ValueError(\\n\\u001b[0m\\u001b[1;32m    289\\u001b[0m             \\\"\\\"\\\"\\n\\u001b[1;32m    290\\u001b[0m     \\u001b[0mInvalid\\u001b[0m \\u001b[0mvalue\\u001b[0m \\u001b[0mof\\u001b[0m \\u001b[0mtype\\u001b[0m \\u001b[0;34m{\\u001b[0m\\u001b[0mtyp\\u001b[0m\\u001b[0;34m}\\u001b[0m \\u001b[0mreceived\\u001b[0m \\u001b[0;32mfor\\u001b[0m \\u001b[0mthe\\u001b[0m \\u001b[0;34m'{name}'\\u001b[0m \\u001b[0mproperty\\u001b[0m \\u001b[0mof\\u001b[0m \\u001b[0;34m{\\u001b[0m\\u001b[0mpname\\u001b[0m\\u001b[0;34m}\\u001b[0m\\u001b[0;34m\\u001b[0m\\u001b[0;34m\\u001b[0m\\u001b[0m\\n\\n\\u001b[0;31mValueError\\u001b[0m: \\n    Invalid value of type 'builtins.str' received for the 'color' property of scatter.marker.line\\n        Received value: 'darkpink'\\n\\n    The 'color' property is a color and may be specified as:\\n      - A hex string (e.g. '#ff0000')\\n      - An rgb/rgba string (e.g. 'rgb(255,0,0)')\\n      - An hsl/hsla string (e.g. 'hsl(0,100%,50%)')\\n      - An hsv/hsva string (e.g. 'hsv(0,100%,100%)')\\n      - A named CSS color:\\n            aliceblue, antiquewhite, aqua, aquamarine, azure,\\n            beige, bisque, black, blanchedalmond, blue,\\n            blueviolet, brown, burlywood, cadetblue,\\n            chartreuse, chocolate, coral, cornflowerblue,\\n            cornsilk, crimson, cyan, darkblue, darkcyan,\\n            darkgoldenrod, darkgray, darkgrey, darkgreen,\\n            darkkhaki, darkmagenta, darkolivegreen, darkorange,\\n            darkorchid, darkred, darksalmon, darkseagreen,\\n            darkslateblue, darkslategray, darkslategrey,\\n            darkturquoise, darkviolet, deeppink, deepskyblue,\\n            dimgray, dimgrey, dodgerblue, firebrick,\\n            floralwhite, forestgreen, fuchsia, gainsboro,\\n            ghostwhite, gold, goldenrod, gray, grey, green,\\n            greenyellow, honeydew, hotpink, indianred, indigo,\\n            ivory, khaki, lavender, lavenderblush, lawngreen,\\n            lemonchiffon, lightblue, lightcoral, lightcyan,\\n            lightgoldenrodyellow, lightgray, lightgrey,\\n            lightgreen, lightpink, lightsalmon, lightseagreen,\\n            lightskyblue, lightslategray, lightslategrey,\\n            lightsteelblue, lightyellow, lime, limegreen,\\n            linen, magenta, maroon, mediumaquamarine,\\n            mediumblue, mediumorchid, mediumpurple,\\n            mediumseagreen, mediumslateblue, mediumspringgreen,\\n            mediumturquoise, mediumvioletred, midnightblue,\\n            mintcream, mistyrose, moccasin, navajowhite, navy,\\n            oldlace, olive, olivedrab, orange, orangered,\\n            orchid, palegoldenrod, palegreen, paleturquoise,\\n            palevioletred, papayawhip, peachpuff, peru, pink,\\n            plum, powderblue, purple, red, rosybrown,\\n            royalblue, rebeccapurple, saddlebrown, salmon,\\n            sandybrown, seagreen, seashell, sienna, silver,\\n            skyblue, slateblue, slategray, slategrey, snow,\\n            springgreen, steelblue, tan, teal, thistle, tomato,\\n            turquoise, violet, wheat, white, whitesmoke,\\n            yellow, yellowgreen\\n      - A number that will be interpreted as a color\\n        according to scatter.marker.line.colorscale\\n      - A list or array of any of the above\"\n",
    "\n",
    "''')"
   ]
  }
 ],
 "metadata": {
  "kernelspec": {
   "display_name": "main_env",
   "language": "python",
   "name": "python3"
  },
  "language_info": {
   "codemirror_mode": {
    "name": "ipython",
    "version": 3
   },
   "file_extension": ".py",
   "mimetype": "text/x-python",
   "name": "python",
   "nbconvert_exporter": "python",
   "pygments_lexer": "ipython3",
   "version": "3.8.15"
  },
  "orig_nbformat": 4,
  "vscode": {
   "interpreter": {
    "hash": "06d12861cad82bdcdde1b56bd9eda52e91f7df29dabbeda8f3d9112222750302"
   }
  }
 },
 "nbformat": 4,
 "nbformat_minor": 2
}
